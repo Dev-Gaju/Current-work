{
 "cells": [
  {
   "cell_type": "code",
   "execution_count": null,
   "metadata": {
    "colab": {
     "base_uri": "https://localhost:8080/"
    },
    "id": "Mhn7nJuPqZ-H",
    "outputId": "37fffbd1-cbe0-43b2-eb04-b5ff5fd062ed"
   },
   "outputs": [
    {
     "name": "stdout",
     "output_type": "stream",
     "text": [
      "Drive already mounted at /content/drive; to attempt to forcibly remount, call drive.mount(\"/content/drive\", force_remount=True).\n"
     ]
    }
   ],
   "source": [
    "from google.colab import drive\n",
    "drive.mount('/content/drive')"
   ]
  },
  {
   "cell_type": "code",
   "execution_count": 81,
   "metadata": {
    "colab": {
     "base_uri": "https://localhost:8080/"
    },
    "execution": {
     "iopub.execute_input": "2023-08-17T16:30:08.506813Z",
     "iopub.status.busy": "2023-08-17T16:30:08.506415Z",
     "iopub.status.idle": "2023-08-17T16:30:08.515553Z",
     "shell.execute_reply": "2023-08-17T16:30:08.514413Z",
     "shell.execute_reply.started": "2023-08-17T16:30:08.506783Z"
    },
    "id": "Z9R75gFK30dH",
    "outputId": "86b649e8-40ce-4a6d-d807-18a751908f19"
   },
   "outputs": [
    {
     "name": "stdout",
     "output_type": "stream",
     "text": [
      "Found GPU at: /device:GPU:0\n"
     ]
    }
   ],
   "source": [
    "import tensorflow as tf\n",
    "device_name = tf.test.gpu_device_name()\n",
    "if device_name != '/device:GPU:0':\n",
    "    raise SystemError('GPU device not found')\n",
    "print('Found GPU at: {}'.format(device_name))"
   ]
  },
  {
   "cell_type": "code",
   "execution_count": null,
   "metadata": {
    "id": "LazcPIH9q7cP"
   },
   "outputs": [],
   "source": [
    "# Import PyDrive and associated libraries.\n",
    "# This only needs to be done once per notebook.\n",
    "import logging\n",
    "logging.getLogger('googleapiclient.discovery_cache').setLevel(logging.ERROR)\n",
    "from pydrive.auth import GoogleAuth\n",
    "from pydrive.drive import GoogleDrive\n",
    "from google.colab import auth\n",
    "from oauth2client.client import GoogleCredentials\n",
    "import glob\n",
    "# Authenticate and create the PyDrive client.\n",
    "# This only needs to be done once per notebook.\n",
    "auth.authenticate_user()\n",
    "gauth = GoogleAuth()\n",
    "gauth.credentials = GoogleCredentials.get_application_default()\n",
    "drive = GoogleDrive(gauth)"
   ]
  },
  {
   "cell_type": "code",
   "execution_count": null,
   "metadata": {
    "id": "t_ZhxbKuZgl5"
   },
   "outputs": [],
   "source": [
    "!gsutil -mq cp gs://tibot-ml-labeling/datasets/cats_vs_dogs_dataset.zip '/content/drive/My Drive/'"
   ]
  },
  {
   "cell_type": "markdown",
   "metadata": {
    "id": "qvMK4yt07uiz"
   },
   "source": [
    "#### Import Libraries"
   ]
  },
  {
   "cell_type": "code",
   "execution_count": 59,
   "metadata": {
    "execution": {
     "iopub.execute_input": "2023-08-17T14:06:29.800574Z",
     "iopub.status.busy": "2023-08-17T14:06:29.800193Z",
     "iopub.status.idle": "2023-08-17T14:06:29.806354Z",
     "shell.execute_reply": "2023-08-17T14:06:29.805327Z",
     "shell.execute_reply.started": "2023-08-17T14:06:29.800536Z"
    },
    "id": "4_SrXXDIDwfL"
   },
   "outputs": [],
   "source": [
    "import os\n",
    "from PIL import Image\n",
    "from glob import glob\n",
    "import tensorflow as tf\n",
    "from tensorflow.keras.preprocessing.image import ImageDataGenerator\n",
    "from tensorflow.keras.callbacks import Callback\n",
    "import numpy as np\n",
    "import matplotlib.pyplot as plt\n",
    "from sklearn.metrics import classification_report, confusion_matrix,ConfusionMatrixDisplay"
   ]
  },
  {
   "cell_type": "code",
   "execution_count": 4,
   "metadata": {
    "execution": {
     "iopub.execute_input": "2023-08-17T10:30:47.953546Z",
     "iopub.status.busy": "2023-08-17T10:30:47.953185Z",
     "iopub.status.idle": "2023-08-17T10:30:47.958379Z",
     "shell.execute_reply": "2023-08-17T10:30:47.957300Z",
     "shell.execute_reply.started": "2023-08-17T10:30:47.953519Z"
    },
    "id": "j705zKzNuTL4"
   },
   "outputs": [],
   "source": [
    "os.chdir(\"/content/drive/MyDrive/Colab Notebooks/Polyfins_works/\")"
   ]
  },
  {
   "cell_type": "code",
   "execution_count": null,
   "metadata": {
    "colab": {
     "base_uri": "https://localhost:8080/"
    },
    "id": "yjFfU8w8lCoF",
    "outputId": "76796b99-63af-4aea-96c2-2b4b4737a550"
   },
   "outputs": [
    {
     "name": "stdout",
     "output_type": "stream",
     "text": [
      "cats_vs_dogs_dataset  cats_vs_dogs_dataset.zip\n"
     ]
    }
   ],
   "source": [
    "!ls"
   ]
  },
  {
   "cell_type": "code",
   "execution_count": 66,
   "metadata": {
    "colab": {
     "base_uri": "https://localhost:8080/"
    },
    "execution": {
     "iopub.execute_input": "2023-08-17T11:31:34.811944Z",
     "iopub.status.busy": "2023-08-17T11:31:34.811583Z",
     "iopub.status.idle": "2023-08-17T11:31:34.816822Z",
     "shell.execute_reply": "2023-08-17T11:31:34.815819Z",
     "shell.execute_reply.started": "2023-08-17T11:31:34.811915Z"
    },
    "id": "giK62FeVZpkY",
    "outputId": "9c913c05-b2c5-48cd-fd37-a3f29d2b0e99"
   },
   "outputs": [],
   "source": [
    "# !unzip cats_vs_dogs_dataset.zip -d  cats_vs_dogs_dataset"
   ]
  },
  {
   "cell_type": "code",
   "execution_count": null,
   "metadata": {
    "id": "LJNqANzoZ2J-"
   },
   "outputs": [],
   "source": [
    "os.chdir(\"/content/drive/MyDrive/cats_vs_dogs_dataset/dataset\")"
   ]
  },
  {
   "cell_type": "code",
   "execution_count": null,
   "metadata": {
    "colab": {
     "base_uri": "https://localhost:8080/"
    },
    "id": "ePGMfyjSmO8Z",
    "outputId": "0b2e678f-a006-4d4d-8f2b-10c59fb73a2b"
   },
   "outputs": [
    {
     "name": "stdout",
     "output_type": "stream",
     "text": [
      "\u001b[0m\u001b[01;34mtest\u001b[0m/  \u001b[01;34mtrain\u001b[0m/\n"
     ]
    }
   ],
   "source": [
    "%ls"
   ]
  },
  {
   "cell_type": "code",
   "execution_count": 5,
   "metadata": {
    "execution": {
     "iopub.execute_input": "2023-08-17T11:49:12.929114Z",
     "iopub.status.busy": "2023-08-17T11:49:12.928749Z",
     "iopub.status.idle": "2023-08-17T11:49:12.934002Z",
     "shell.execute_reply": "2023-08-17T11:49:12.933103Z",
     "shell.execute_reply.started": "2023-08-17T11:49:12.929086Z"
    },
    "id": "tA51_R8LmKkK"
   },
   "outputs": [],
   "source": [
    "train_dir = \"/kaggle/input/catvsdogs/dataset/train/\"\n",
    "test_dir = \"/kaggle/input/catvsdogs/dataset/test/\""
   ]
  },
  {
   "cell_type": "markdown",
   "metadata": {
    "id": "dA-rhI7uX0vX"
   },
   "source": [
    "#### EDA"
   ]
  },
  {
   "cell_type": "code",
   "execution_count": null,
   "metadata": {
    "colab": {
     "base_uri": "https://localhost:8080/",
     "height": 35
    },
    "id": "qrE3I3NeDf0E",
    "outputId": "9a9dfd3d-9cb9-4b6c-856d-0e5156650839"
   },
   "outputs": [
    {
     "data": {
      "application/vnd.google.colaboratory.intrinsic+json": {
       "type": "string"
      },
      "text/plain": [
       "'/content/drive/MyDrive/cats_vs_dogs_dataset/dataset'"
      ]
     },
     "execution_count": 8,
     "metadata": {},
     "output_type": "execute_result"
    }
   ],
   "source": [
    "%pwd"
   ]
  },
  {
   "cell_type": "code",
   "execution_count": null,
   "metadata": {
    "colab": {
     "base_uri": "https://localhost:8080/"
    },
    "id": "Z8fNG1r5lh27",
    "outputId": "000106dd-8d58-4ae1-b20c-8154e9f899f2"
   },
   "outputs": [
    {
     "name": "stdout",
     "output_type": "stream",
     "text": [
      "468 388\n"
     ]
    }
   ],
   "source": [
    "img=Image.open(\"train/cats/cats3583.jpg\")\n",
    "width, height = img.size\n",
    "print(width, height)"
   ]
  },
  {
   "cell_type": "code",
   "execution_count": null,
   "metadata": {
    "colab": {
     "base_uri": "https://localhost:8080/"
    },
    "id": "rIjWjOIhj8qg",
    "outputId": "a7542e1f-a9db-4ccd-990c-f44b568d43b5"
   },
   "outputs": [
    {
     "data": {
      "text/plain": [
       "1.2061855670103092"
      ]
     },
     "execution_count": 10,
     "metadata": {},
     "output_type": "execute_result"
    }
   ],
   "source": [
    "# Aspect ratio\n",
    "aspect_ratio = width / height\n",
    "aspect_ratio"
   ]
  },
  {
   "cell_type": "code",
   "execution_count": null,
   "metadata": {
    "colab": {
     "base_uri": "https://localhost:8080/"
    },
    "id": "jhgTme_HmtrW",
    "outputId": "da39afcf-2d58-4047-ea24-af9372808966"
   },
   "outputs": [
    {
     "data": {
      "text/plain": [
       "564"
      ]
     },
     "execution_count": 51,
     "metadata": {},
     "output_type": "execute_result"
    }
   ],
   "source": [
    "#calculate the coresponding height from that aspect ratio\n",
    "int(width * aspect_ratio)"
   ]
  },
  {
   "cell_type": "code",
   "execution_count": null,
   "metadata": {
    "id": "k_7Utv-DguRj"
   },
   "outputs": [],
   "source": [
    "# https://www.tensorflow.org/api_docs/python/tf/keras/preprocessing/image/ImageDataGenerator\n",
    "# https://keras.io/api/data_loading/image"
   ]
  },
  {
   "cell_type": "code",
   "execution_count": 3,
   "metadata": {
    "execution": {
     "iopub.execute_input": "2023-08-17T11:49:02.058111Z",
     "iopub.status.busy": "2023-08-17T11:49:02.057051Z",
     "iopub.status.idle": "2023-08-17T11:49:02.064503Z",
     "shell.execute_reply": "2023-08-17T11:49:02.063255Z",
     "shell.execute_reply.started": "2023-08-17T11:49:02.058070Z"
    },
    "id": "PIAC2d0Kac8F"
   },
   "outputs": [],
   "source": [
    "train_dataGen = ImageDataGenerator(\n",
    "    rotation_range=30,\n",
    "    shear_range=0.2,\n",
    "    zoom_range=0.2,\n",
    "    width_shift_range=0.2,\n",
    "    height_shift_range=0.2,\n",
    "    horizontal_flip=True,\n",
    "    vertical_flip=True,\n",
    "    rescale=1.0/255,\n",
    "    fill_mode='nearest',\n",
    "    validation_split=0.2,\n",
    ")\n",
    "test_dataGen = ImageDataGenerator(rescale=1./255)"
   ]
  },
  {
   "cell_type": "markdown",
   "metadata": {
    "id": "PqpFqZ4uqiw7"
   },
   "source": [
    "**target_size** : Larger Input size will increase the computional demand on training and inference also check the image ratio and imformation gather from image than fixed the ratio."
   ]
  },
  {
   "cell_type": "code",
   "execution_count": 18,
   "metadata": {
    "colab": {
     "base_uri": "https://localhost:8080/"
    },
    "execution": {
     "iopub.execute_input": "2023-08-17T13:48:10.608963Z",
     "iopub.status.busy": "2023-08-17T13:48:10.608253Z",
     "iopub.status.idle": "2023-08-17T13:48:16.254928Z",
     "shell.execute_reply": "2023-08-17T13:48:16.253953Z",
     "shell.execute_reply.started": "2023-08-17T13:48:10.608923Z"
    },
    "id": "ri22sjQufaqy",
    "outputId": "05ad39b6-835b-4269-c896-7a39c1964112"
   },
   "outputs": [
    {
     "name": "stdout",
     "output_type": "stream",
     "text": [
      "Found 14392 images belonging to 2 classes.\n",
      "Found 3598 images belonging to 2 classes.\n",
      "Found 4732 images belonging to 2 classes.\n"
     ]
    }
   ],
   "source": [
    "train_generator = train_dataGen.flow_from_directory(\n",
    "    train_dir,\n",
    "    target_size =(224,224),\n",
    "    batch_size = 64,\n",
    "    class_mode ='sparse',\n",
    "    subset='training',\n",
    "    shuffle=True,\n",
    "    seed=42,\n",
    "    color_mode ='rgb'\n",
    ")\n",
    "\n",
    "validation_generator = train_dataGen.flow_from_directory(\n",
    "    train_dir,\n",
    "    target_size =(224,224),\n",
    "    batch_size = 64,\n",
    "    class_mode ='sparse',\n",
    "    subset='validation',\n",
    "    shuffle=False,\n",
    "    seed=42,\n",
    "    color_mode ='rgb'\n",
    ")\n",
    "\n",
    "test_generator = test_dataGen.flow_from_directory(\n",
    "    test_dir,\n",
    "    target_size=(224,224),\n",
    "    batch_size=64,\n",
    "    class_mode='sparse',\n",
    "    shuffle=False\n",
    ")"
   ]
  },
  {
   "cell_type": "code",
   "execution_count": null,
   "metadata": {
    "colab": {
     "base_uri": "https://localhost:8080/"
    },
    "id": "23y2MNhTk8tQ",
    "outputId": "2a8a2253-b4e1-442f-f1a6-738ab2a13959"
   },
   "outputs": [
    {
     "data": {
      "text/plain": [
       "(450, 14392, 2, ['cats', 'dogs'], (224, 224, 3), 32)"
      ]
     },
     "execution_count": 16,
     "metadata": {},
     "output_type": "execute_result"
    }
   ],
   "source": [
    "#number of batch per epoch, samples, number of class, list of class labels,\n",
    "len(train_generator), train_generator.samples, train_generator.num_classes, list(train_generator.class_indices.keys()), train_generator.image_shape, train_generator.batch_size"
   ]
  },
  {
   "cell_type": "markdown",
   "metadata": {
    "id": "6llp-GJByI52"
   },
   "source": [
    "#### InceptionV3 Model"
   ]
  },
  {
   "cell_type": "code",
   "execution_count": null,
   "metadata": {
    "id": "OZ3Gj9NJ2ZSL"
   },
   "outputs": [],
   "source": [
    "# https://keras.io/api/applications/#usage-examples-for-image-classification-models\n",
    "# https://keras.io/api/applications/inceptionv3/\n",
    "# https://keras.io/guides/transfer_learning/"
   ]
  },
  {
   "cell_type": "code",
   "execution_count": 7,
   "metadata": {
    "colab": {
     "base_uri": "https://localhost:8080/"
    },
    "execution": {
     "iopub.execute_input": "2023-08-17T11:49:34.049294Z",
     "iopub.status.busy": "2023-08-17T11:49:34.048939Z",
     "iopub.status.idle": "2023-08-17T11:49:36.348680Z",
     "shell.execute_reply": "2023-08-17T11:49:36.347746Z",
     "shell.execute_reply.started": "2023-08-17T11:49:34.049264Z"
    },
    "id": "w65kAl0pt8C4",
    "outputId": "eca7b6f2-6e82-457b-dfd1-924b15f7d25c"
   },
   "outputs": [],
   "source": [
    "InceptionV3=tf.keras.applications.InceptionV3(\n",
    "    include_top =False,\n",
    "    weights =None,\n",
    "    input_shape =(224,224, 3)\n",
    "    )\n",
    "# InceptionV3.summary()"
   ]
  },
  {
   "cell_type": "markdown",
   "metadata": {
    "id": "5BfbMkET23ba"
   },
   "source": [
    "**Freeze** :\n",
    "when not Using pretrained weight from ImageNet or anyother source it good to freeze the layer of the model on training set.Freeze the layer means pretrained weight of those layers not update during trainig and this done to prevent losing information. We know pretrained layer learn from large dataset so instead of focusing new layers it focused on the top layers."
   ]
  },
  {
   "cell_type": "code",
   "execution_count": 8,
   "metadata": {
    "execution": {
     "iopub.execute_input": "2023-08-17T11:49:40.488082Z",
     "iopub.status.busy": "2023-08-17T11:49:40.487708Z",
     "iopub.status.idle": "2023-08-17T11:49:41.201131Z",
     "shell.execute_reply": "2023-08-17T11:49:41.200021Z",
     "shell.execute_reply.started": "2023-08-17T11:49:40.488053Z"
    },
    "id": "37s9C-CQ1E6K"
   },
   "outputs": [],
   "source": [
    "incep_model = tf.keras.Sequential([\n",
    "    InceptionV3,\n",
    "    tf.keras.layers.GlobalAveragePooling2D(),\n",
    "    tf.keras.layers.Dense(256,  activation=\"relu\"),\n",
    "    tf.keras.layers.BatchNormalization(),\n",
    "    tf.keras.layers.Dropout(0.3),\n",
    "    tf.keras.layers.Dense(2, activation=\"sigmoid\")\n",
    "])"
   ]
  },
  {
   "cell_type": "code",
   "execution_count": 82,
   "metadata": {
    "colab": {
     "base_uri": "https://localhost:8080/"
    },
    "execution": {
     "iopub.execute_input": "2023-08-17T11:39:29.659574Z",
     "iopub.status.busy": "2023-08-17T11:39:29.659229Z",
     "iopub.status.idle": "2023-08-17T11:39:29.715099Z",
     "shell.execute_reply": "2023-08-17T11:39:29.714213Z",
     "shell.execute_reply.started": "2023-08-17T11:39:29.659545Z"
    },
    "id": "Xk2TwTTB4vk5",
    "outputId": "b48e9c0e-2578-49ca-e920-5ba07d0708ea"
   },
   "outputs": [
    {
     "name": "stdout",
     "output_type": "stream",
     "text": [
      "Model: \"sequential_7\"\n",
      "_________________________________________________________________\n",
      " Layer (type)                Output Shape              Param #   \n",
      "=================================================================\n",
      " inception_v3 (Functional)   (None, 5, 5, 2048)        21802784  \n",
      "                                                                 \n",
      " global_average_pooling2d_7   (None, 2048)             0         \n",
      " (GlobalAveragePooling2D)                                        \n",
      "                                                                 \n",
      " dense_18 (Dense)            (None, 256)               524544    \n",
      "                                                                 \n",
      " batch_normalization_379 (Ba  (None, 256)              1024      \n",
      " tchNormalization)                                               \n",
      "                                                                 \n",
      " dropout_19 (Dropout)        (None, 256)               0         \n",
      "                                                                 \n",
      " dense_19 (Dense)            (None, 2)                 514       \n",
      "                                                                 \n",
      "=================================================================\n",
      "Total params: 22,328,866\n",
      "Trainable params: 22,293,922\n",
      "Non-trainable params: 34,944\n",
      "_________________________________________________________________\n"
     ]
    }
   ],
   "source": [
    "incep_model.summary()"
   ]
  },
  {
   "cell_type": "code",
   "execution_count": 9,
   "metadata": {
    "execution": {
     "iopub.execute_input": "2023-08-17T11:49:46.077412Z",
     "iopub.status.busy": "2023-08-17T11:49:46.077043Z",
     "iopub.status.idle": "2023-08-17T11:49:46.105112Z",
     "shell.execute_reply": "2023-08-17T11:49:46.104210Z",
     "shell.execute_reply.started": "2023-08-17T11:49:46.077383Z"
    },
    "id": "lbHvf0eK4ysn"
   },
   "outputs": [],
   "source": [
    "# tf.keras.optimizers.Adam(learning_rate=0.001)\n",
    "incep_model.compile(optimizer='adam', loss=\"sparse_categorical_crossentropy\",metrics=['accuracy'])"
   ]
  },
  {
   "cell_type": "code",
   "execution_count": 10,
   "metadata": {
    "execution": {
     "iopub.execute_input": "2023-08-17T11:49:50.451294Z",
     "iopub.status.busy": "2023-08-17T11:49:50.450944Z",
     "iopub.status.idle": "2023-08-17T11:49:50.457108Z",
     "shell.execute_reply": "2023-08-17T11:49:50.456180Z",
     "shell.execute_reply.started": "2023-08-17T11:49:50.451265Z"
    },
    "id": "mPww-i7Dp17E"
   },
   "outputs": [],
   "source": [
    "lr = tf.keras.callbacks.ReduceLROnPlateau(monitor=\"val_loss\", factor=0.2, patience=5,min_lr=0.002, verbose=1)   #newlr = lr* factor\n",
    "es = tf.keras.callbacks.EarlyStopping(monitor=\"val_loss\", patience=8, verbose=1, mode=\"min\", restore_best_weights=True)"
   ]
  },
  {
   "cell_type": "code",
   "execution_count": null,
   "metadata": {
    "id": "Qorn3RmgARyq"
   },
   "outputs": [],
   "source": [
    "# os.makedirs(\"Models/Re/\")"
   ]
  },
  {
   "cell_type": "markdown",
   "metadata": {},
   "source": [
    "#### Save model On Drive and Google cloud"
   ]
  },
  {
   "cell_type": "code",
   "execution_count": null,
   "metadata": {
    "id": "iyb-yuMADsOY"
   },
   "outputs": [],
   "source": [
    "class Model_saveDrive(Callback):\n",
    "    def __init__(self, drive_dir,model):\n",
    "        super(Model_saveDrive, self).__init__()\n",
    "        self.drive_dir = drive_dir\n",
    "        self.model = model\n",
    "\n",
    "  # def set_model(self,model):\n",
    "  #   self.model = incep_model\n",
    "\n",
    "    def on_epoch_end(self,epoch, logs=None):\n",
    "        model_filename=os.path.join(self.drive_dir,f'model_epoch_{epoch+1}.h5')\n",
    "        self.model.save(model_filename, include_optimizer=True)\n",
    "        !gsutil -mq cp {model_filename} gs://tibot-ml-labeling/models/cats_vs_dogs_task/gaju/InceptionV3/model/\n",
    "        print(f\"{model_filename} save in bucket\")"
   ]
  },
  {
   "cell_type": "code",
   "execution_count": null,
   "metadata": {},
   "outputs": [],
   "source": [
    "drive_dir = '/content/drive/MyDrive/Models/InceptionV3/'\n",
    "save_model_callback = Model_saveDrive(drive_dir, incep_model)"
   ]
  },
  {
   "cell_type": "code",
   "execution_count": 11,
   "metadata": {
    "colab": {
     "base_uri": "https://localhost:8080/"
    },
    "execution": {
     "iopub.execute_input": "2023-08-17T11:49:55.397809Z",
     "iopub.status.busy": "2023-08-17T11:49:55.396690Z",
     "iopub.status.idle": "2023-08-17T13:17:28.510092Z",
     "shell.execute_reply": "2023-08-17T13:17:28.508954Z",
     "shell.execute_reply.started": "2023-08-17T11:49:55.397766Z"
    },
    "id": "GCAFTB5l5cwX",
    "outputId": "2bb92d81-9502-4b29-d7a5-393c68613955"
   },
   "outputs": [
    {
     "name": "stdout",
     "output_type": "stream",
     "text": [
      "Epoch 1/20\n",
      "225/225 [==============================] - 385s 1s/step - loss: 0.5993 - accuracy: 0.7037 - val_loss: 1.4432 - val_accuracy: 0.5000 - lr: 0.0010\n",
      "Epoch 2/20\n",
      "225/225 [==============================] - 254s 1s/step - loss: 0.5020 - accuracy: 0.7613 - val_loss: 1.2124 - val_accuracy: 0.5564 - lr: 0.0010\n",
      "Epoch 3/20\n",
      "225/225 [==============================] - 256s 1s/step - loss: 0.4423 - accuracy: 0.8006 - val_loss: 0.7232 - val_accuracy: 0.7226 - lr: 0.0010\n",
      "Epoch 4/20\n",
      "225/225 [==============================] - 257s 1s/step - loss: 0.4138 - accuracy: 0.8152 - val_loss: 0.6528 - val_accuracy: 0.7126 - lr: 0.0010\n",
      "Epoch 5/20\n",
      "225/225 [==============================] - 254s 1s/step - loss: 0.3948 - accuracy: 0.8283 - val_loss: 0.5643 - val_accuracy: 0.7551 - lr: 0.0010\n",
      "Epoch 6/20\n",
      "225/225 [==============================] - 251s 1s/step - loss: 0.3959 - accuracy: 0.8297 - val_loss: 0.6307 - val_accuracy: 0.7535 - lr: 0.0010\n",
      "Epoch 7/20\n",
      "225/225 [==============================] - 250s 1s/step - loss: 0.3740 - accuracy: 0.8389 - val_loss: 0.4369 - val_accuracy: 0.7927 - lr: 0.0010\n",
      "Epoch 8/20\n",
      "225/225 [==============================] - 249s 1s/step - loss: 0.3550 - accuracy: 0.8476 - val_loss: 0.3754 - val_accuracy: 0.8274 - lr: 0.0010\n",
      "Epoch 9/20\n",
      "225/225 [==============================] - 248s 1s/step - loss: 0.3487 - accuracy: 0.8517 - val_loss: 0.5474 - val_accuracy: 0.7285 - lr: 0.0010\n",
      "Epoch 10/20\n",
      "225/225 [==============================] - 249s 1s/step - loss: 0.3262 - accuracy: 0.8628 - val_loss: 0.3570 - val_accuracy: 0.8438 - lr: 0.0010\n",
      "Epoch 11/20\n",
      "225/225 [==============================] - 248s 1s/step - loss: 0.3218 - accuracy: 0.8603 - val_loss: 0.7030 - val_accuracy: 0.7543 - lr: 0.0010\n",
      "Epoch 12/20\n",
      "225/225 [==============================] - 248s 1s/step - loss: 0.3202 - accuracy: 0.8637 - val_loss: 0.3506 - val_accuracy: 0.8588 - lr: 0.0010\n",
      "Epoch 13/20\n",
      "225/225 [==============================] - 253s 1s/step - loss: 0.3069 - accuracy: 0.8719 - val_loss: 0.4517 - val_accuracy: 0.8043 - lr: 0.0010\n",
      "Epoch 14/20\n",
      "225/225 [==============================] - 252s 1s/step - loss: 0.2906 - accuracy: 0.8811 - val_loss: 0.6186 - val_accuracy: 0.7360 - lr: 0.0010\n",
      "Epoch 15/20\n",
      "225/225 [==============================] - 249s 1s/step - loss: 0.2757 - accuracy: 0.8867 - val_loss: 0.3089 - val_accuracy: 0.8713 - lr: 0.0010\n",
      "Epoch 16/20\n",
      "225/225 [==============================] - 249s 1s/step - loss: 0.2663 - accuracy: 0.8905 - val_loss: 0.6630 - val_accuracy: 0.7693 - lr: 0.0010\n",
      "Epoch 17/20\n",
      "225/225 [==============================] - 250s 1s/step - loss: 0.2544 - accuracy: 0.8942 - val_loss: 0.4734 - val_accuracy: 0.7904 - lr: 0.0010\n",
      "Epoch 18/20\n",
      "225/225 [==============================] - 250s 1s/step - loss: 0.2348 - accuracy: 0.9047 - val_loss: 0.3596 - val_accuracy: 0.8533 - lr: 0.0010\n",
      "Epoch 19/20\n",
      "225/225 [==============================] - 248s 1s/step - loss: 0.2286 - accuracy: 0.9061 - val_loss: 0.5871 - val_accuracy: 0.7418 - lr: 0.0010\n",
      "Epoch 20/20\n",
      "225/225 [==============================] - 250s 1s/step - loss: 0.2294 - accuracy: 0.9065 - val_loss: 0.3512 - val_accuracy: 0.8583 - lr: 0.0010\n"
     ]
    },
    {
     "data": {
      "text/plain": [
       "<keras.callbacks.History at 0x78a3b2f6a0b0>"
      ]
     },
     "execution_count": 11,
     "metadata": {},
     "output_type": "execute_result"
    }
   ],
   "source": [
    "epochs=20\n",
    "incep_model.fit(train_generator, epochs=epochs, steps_per_epoch=len(train_generator),\n",
    "          validation_data=validation_generator, validation_steps=len(validation_generator), callbacks=[lr, es])"
   ]
  },
  {
   "cell_type": "code",
   "execution_count": 16,
   "metadata": {
    "colab": {
     "base_uri": "https://localhost:8080/"
    },
    "execution": {
     "iopub.execute_input": "2023-08-17T13:46:19.020748Z",
     "iopub.status.busy": "2023-08-17T13:46:19.020359Z",
     "iopub.status.idle": "2023-08-17T13:47:41.676978Z",
     "shell.execute_reply": "2023-08-17T13:47:41.675943Z",
     "shell.execute_reply.started": "2023-08-17T13:46:19.020718Z"
    },
    "id": "f9BsSY0u3Vl0",
    "outputId": "656773d4-7304-4f78-97da-e5dea395677d"
   },
   "outputs": [
    {
     "name": "stdout",
     "output_type": "stream",
     "text": [
      "74/74 [==============================] - 45s 617ms/step - loss: 0.2232 - accuracy: 0.9068\n",
      "0.2231939285993576 0.9068047404289246\n"
     ]
    }
   ],
   "source": [
    "loss, accuracy = incep_model.evaluate(test_generator, steps=len(test_generator))\n",
    "print(loss, accuracy)"
   ]
  },
  {
   "cell_type": "code",
   "execution_count": 50,
   "metadata": {
    "execution": {
     "iopub.execute_input": "2023-08-17T14:04:12.438382Z",
     "iopub.status.busy": "2023-08-17T14:04:12.438028Z",
     "iopub.status.idle": "2023-08-17T14:04:28.800866Z",
     "shell.execute_reply": "2023-08-17T14:04:28.799488Z",
     "shell.execute_reply.started": "2023-08-17T14:04:12.438354Z"
    }
   },
   "outputs": [
    {
     "name": "stdout",
     "output_type": "stream",
     "text": [
      "74/74 [==============================] - 16s 215ms/step\n",
      "/n               precision    recall  f1-score   support\n",
      "\n",
      "        cats       0.97      0.90      0.93      3505\n",
      "        dogs       0.76      0.93      0.84      1227\n",
      "\n",
      "    accuracy                           0.91      4732\n",
      "   macro avg       0.87      0.92      0.89      4732\n",
      "weighted avg       0.92      0.91      0.91      4732\n",
      "\n"
     ]
    }
   ],
   "source": [
    "class_labels = list(test_generator.class_indices.keys())\n",
    "true_labels = test_generator.classes\n",
    "predicions = incep_model.predict(test_generator, steps=len(test_generator))\n",
    "predicted_labels =[np.argmax(prediction) for prediction in predicions]\n",
    "classification_rep = classification_report(true_labels, predicted_labels, target_names=class_labels)\n",
    "print(\"/n\",classification_rep)"
   ]
  },
  {
   "cell_type": "code",
   "execution_count": 63,
   "metadata": {
    "execution": {
     "iopub.execute_input": "2023-08-17T14:07:00.441121Z",
     "iopub.status.busy": "2023-08-17T14:07:00.439960Z",
     "iopub.status.idle": "2023-08-17T14:07:00.686526Z",
     "shell.execute_reply": "2023-08-17T14:07:00.685612Z",
     "shell.execute_reply.started": "2023-08-17T14:07:00.441074Z"
    }
   },
   "outputs": [
    {
     "data": {
      "image/png": "[encoded data removed]",
      "text/plain": [
       "<Figure size 640x480 with 2 Axes>"
      ]
     },
     "metadata": {},
     "output_type": "display_data"
    }
   ],
   "source": [
    "#Show with Confusion matrix\n",
    "cm = confusion_matrix(true_labels, np.array(predicted_labels))\n",
    "cm_display = ConfusionMatrixDisplay(confusion_matrix = cm, display_labels=class_labels)\n",
    "cm_display.plot()\n",
    "plt.show()"
   ]
  },
  {
   "cell_type": "markdown",
   "metadata": {
    "id": "ujVRNaUpqEaI"
   },
   "source": [
    "#### EffieicentNetV2 B2"
   ]
  },
  {
   "cell_type": "code",
   "execution_count": 64,
   "metadata": {
    "colab": {
     "base_uri": "https://localhost:8080/"
    },
    "execution": {
     "iopub.execute_input": "2023-08-17T14:08:57.788326Z",
     "iopub.status.busy": "2023-08-17T14:08:57.787875Z",
     "iopub.status.idle": "2023-08-17T14:08:59.972932Z",
     "shell.execute_reply": "2023-08-17T14:08:59.971900Z",
     "shell.execute_reply.started": "2023-08-17T14:08:57.788291Z"
    },
    "id": "b6EcN5-KqJgm",
    "outputId": "68795295-6b11-4392-844b-29d209aff05f"
   },
   "outputs": [],
   "source": [
    "effcient=tf.keras.applications.EfficientNetV2B0(\n",
    "    include_top=False,\n",
    "    weights = 'imagenet',\n",
    "    input_shape =(224,224, 3),\n",
    "    classes=2,\n",
    ")"
   ]
  },
  {
   "cell_type": "code",
   "execution_count": 65,
   "metadata": {
    "execution": {
     "iopub.execute_input": "2023-08-17T14:09:01.220076Z",
     "iopub.status.busy": "2023-08-17T14:09:01.219391Z",
     "iopub.status.idle": "2023-08-17T14:09:01.267347Z",
     "shell.execute_reply": "2023-08-17T14:09:01.266433Z",
     "shell.execute_reply.started": "2023-08-17T14:09:01.220040Z"
    },
    "id": "iUOIQcqdqzT-"
   },
   "outputs": [],
   "source": [
    "x=effcient.output\n",
    "x=tf.keras.layers.GlobalAveragePooling2D()(x)\n",
    "x=tf.keras.layers.Dropout(0.3)(x)  # add for reduce overfiting\n",
    "predictions = tf.keras.layers.Dense(2, activation=\"sigmoid\")(x)\n",
    "eff_model= tf.keras.models.Model(inputs= effcient.input,outputs=predictions)"
   ]
  },
  {
   "cell_type": "code",
   "execution_count": 79,
   "metadata": {
    "execution": {
     "iopub.execute_input": "2023-08-17T16:22:40.678039Z",
     "iopub.status.busy": "2023-08-17T16:22:40.677639Z",
     "iopub.status.idle": "2023-08-17T16:22:41.248957Z",
     "shell.execute_reply": "2023-08-17T16:22:41.248119Z",
     "shell.execute_reply.started": "2023-08-17T16:22:40.678006Z"
    }
   },
   "outputs": [
    {
     "name": "stdout",
     "output_type": "stream",
     "text": [
      "Model: \"model_1\"\n",
      "__________________________________________________________________________________________________\n",
      " Layer (type)                   Output Shape         Param #     Connected to                     \n",
      "==================================================================================================\n",
      " input_3 (InputLayer)           [(None, 224, 224, 3  0           []                               \n",
      "                                )]                                                                \n",
      "                                                                                                  \n",
      " rescaling_1 (Rescaling)        (None, 224, 224, 3)  0           ['input_3[0][0]']                \n",
      "                                                                                                  \n",
      " normalization_1 (Normalization  (None, 224, 224, 3)  0          ['rescaling_1[0][0]']            \n",
      " )                                                                                                \n",
      "                                                                                                  \n",
      " stem_conv (Conv2D)             (None, 112, 112, 32  864         ['normalization_1[0][0]']        \n",
      "                                )                                                                 \n",
      "                                                                                                  \n",
      " stem_bn (BatchNormalization)   (None, 112, 112, 32  128         ['stem_conv[0][0]']              \n",
      "                                )                                                                 \n",
      "                                                                                                  \n",
      " stem_activation (Activation)   (None, 112, 112, 32  0           ['stem_bn[0][0]']                \n",
      "                                )                                                                 \n",
      "                                                                                                  \n",
      " block1a_project_conv (Conv2D)  (None, 112, 112, 16  4608        ['stem_activation[0][0]']        \n",
      "                                )                                                                 \n",
      "                                                                                                  \n",
      " block1a_project_bn (BatchNorma  (None, 112, 112, 16  64         ['block1a_project_conv[0][0]']   \n",
      " lization)                      )                                                                 \n",
      "                                                                                                  \n",
      " block1a_project_activation (Ac  (None, 112, 112, 16  0          ['block1a_project_bn[0][0]']     \n",
      " tivation)                      )                                                                 \n",
      "                                                                                                  \n",
      " block2a_expand_conv (Conv2D)   (None, 56, 56, 64)   9216        ['block1a_project_activation[0][0\n",
      "                                                                 ]']                              \n",
      "                                                                                                  \n",
      " block2a_expand_bn (BatchNormal  (None, 56, 56, 64)  256         ['block2a_expand_conv[0][0]']    \n",
      " ization)                                                                                         \n",
      "                                                                                                  \n",
      " block2a_expand_activation (Act  (None, 56, 56, 64)  0           ['block2a_expand_bn[0][0]']      \n",
      " ivation)                                                                                         \n",
      "                                                                                                  \n",
      " block2a_project_conv (Conv2D)  (None, 56, 56, 32)   2048        ['block2a_expand_activation[0][0]\n",
      "                                                                 ']                               \n",
      "                                                                                                  \n",
      " block2a_project_bn (BatchNorma  (None, 56, 56, 32)  128         ['block2a_project_conv[0][0]']   \n",
      " lization)                                                                                        \n",
      "                                                                                                  \n",
      " block2b_expand_conv (Conv2D)   (None, 56, 56, 128)  36864       ['block2a_project_bn[0][0]']     \n",
      "                                                                                                  \n",
      " block2b_expand_bn (BatchNormal  (None, 56, 56, 128)  512        ['block2b_expand_conv[0][0]']    \n",
      " ization)                                                                                         \n",
      "                                                                                                  \n",
      " block2b_expand_activation (Act  (None, 56, 56, 128)  0          ['block2b_expand_bn[0][0]']      \n",
      " ivation)                                                                                         \n",
      "                                                                                                  \n",
      " block2b_project_conv (Conv2D)  (None, 56, 56, 32)   4096        ['block2b_expand_activation[0][0]\n",
      "                                                                 ']                               \n",
      "                                                                                                  \n",
      " block2b_project_bn (BatchNorma  (None, 56, 56, 32)  128         ['block2b_project_conv[0][0]']   \n",
      " lization)                                                                                        \n",
      "                                                                                                  \n",
      " block2b_drop (Dropout)         (None, 56, 56, 32)   0           ['block2b_project_bn[0][0]']     \n",
      "                                                                                                  \n",
      " block2b_add (Add)              (None, 56, 56, 32)   0           ['block2b_drop[0][0]',           \n",
      "                                                                  'block2a_project_bn[0][0]']     \n",
      "                                                                                                  \n",
      " block3a_expand_conv (Conv2D)   (None, 28, 28, 128)  36864       ['block2b_add[0][0]']            \n",
      "                                                                                                  \n",
      " block3a_expand_bn (BatchNormal  (None, 28, 28, 128)  512        ['block3a_expand_conv[0][0]']    \n",
      " ization)                                                                                         \n",
      "                                                                                                  \n",
      " block3a_expand_activation (Act  (None, 28, 28, 128)  0          ['block3a_expand_bn[0][0]']      \n",
      " ivation)                                                                                         \n",
      "                                                                                                  \n",
      " block3a_project_conv (Conv2D)  (None, 28, 28, 48)   6144        ['block3a_expand_activation[0][0]\n",
      "                                                                 ']                               \n",
      "                                                                                                  \n",
      " block3a_project_bn (BatchNorma  (None, 28, 28, 48)  192         ['block3a_project_conv[0][0]']   \n",
      " lization)                                                                                        \n",
      "                                                                                                  \n",
      " block3b_expand_conv (Conv2D)   (None, 28, 28, 192)  82944       ['block3a_project_bn[0][0]']     \n",
      "                                                                                                  \n",
      " block3b_expand_bn (BatchNormal  (None, 28, 28, 192)  768        ['block3b_expand_conv[0][0]']    \n",
      " ization)                                                                                         \n",
      "                                                                                                  \n",
      " block3b_expand_activation (Act  (None, 28, 28, 192)  0          ['block3b_expand_bn[0][0]']      \n",
      " ivation)                                                                                         \n",
      "                                                                                                  \n",
      " block3b_project_conv (Conv2D)  (None, 28, 28, 48)   9216        ['block3b_expand_activation[0][0]\n",
      "                                                                 ']                               \n",
      "                                                                                                  \n",
      " block3b_project_bn (BatchNorma  (None, 28, 28, 48)  192         ['block3b_project_conv[0][0]']   \n",
      " lization)                                                                                        \n",
      "                                                                                                  \n",
      " block3b_drop (Dropout)         (None, 28, 28, 48)   0           ['block3b_project_bn[0][0]']     \n",
      "                                                                                                  \n",
      " block3b_add (Add)              (None, 28, 28, 48)   0           ['block3b_drop[0][0]',           \n",
      "                                                                  'block3a_project_bn[0][0]']     \n",
      "                                                                                                  \n",
      " block4a_expand_conv (Conv2D)   (None, 28, 28, 192)  9216        ['block3b_add[0][0]']            \n",
      "                                                                                                  \n",
      " block4a_expand_bn (BatchNormal  (None, 28, 28, 192)  768        ['block4a_expand_conv[0][0]']    \n",
      " ization)                                                                                         \n",
      "                                                                                                  \n",
      " block4a_expand_activation (Act  (None, 28, 28, 192)  0          ['block4a_expand_bn[0][0]']      \n",
      " ivation)                                                                                         \n",
      "                                                                                                  \n",
      " block4a_dwconv2 (DepthwiseConv  (None, 14, 14, 192)  1728       ['block4a_expand_activation[0][0]\n",
      " 2D)                                                             ']                               \n",
      "                                                                                                  \n",
      " block4a_bn (BatchNormalization  (None, 14, 14, 192)  768        ['block4a_dwconv2[0][0]']        \n",
      " )                                                                                                \n",
      "                                                                                                  \n",
      " block4a_activation (Activation  (None, 14, 14, 192)  0          ['block4a_bn[0][0]']             \n",
      " )                                                                                                \n",
      "                                                                                                  \n",
      " block4a_se_squeeze (GlobalAver  (None, 192)         0           ['block4a_activation[0][0]']     \n",
      " agePooling2D)                                                                                    \n",
      "                                                                                                  \n",
      " block4a_se_reshape (Reshape)   (None, 1, 1, 192)    0           ['block4a_se_squeeze[0][0]']     \n",
      "                                                                                                  \n",
      " block4a_se_reduce (Conv2D)     (None, 1, 1, 12)     2316        ['block4a_se_reshape[0][0]']     \n",
      "                                                                                                  \n",
      " block4a_se_expand (Conv2D)     (None, 1, 1, 192)    2496        ['block4a_se_reduce[0][0]']      \n",
      "                                                                                                  \n",
      " block4a_se_excite (Multiply)   (None, 14, 14, 192)  0           ['block4a_activation[0][0]',     \n",
      "                                                                  'block4a_se_expand[0][0]']      \n",
      "                                                                                                  \n",
      " block4a_project_conv (Conv2D)  (None, 14, 14, 96)   18432       ['block4a_se_excite[0][0]']      \n",
      "                                                                                                  \n",
      " block4a_project_bn (BatchNorma  (None, 14, 14, 96)  384         ['block4a_project_conv[0][0]']   \n",
      " lization)                                                                                        \n",
      "                                                                                                  \n",
      " block4b_expand_conv (Conv2D)   (None, 14, 14, 384)  36864       ['block4a_project_bn[0][0]']     \n",
      "                                                                                                  \n",
      " block4b_expand_bn (BatchNormal  (None, 14, 14, 384)  1536       ['block4b_expand_conv[0][0]']    \n",
      " ization)                                                                                         \n",
      "                                                                                                  \n",
      " block4b_expand_activation (Act  (None, 14, 14, 384)  0          ['block4b_expand_bn[0][0]']      \n",
      " ivation)                                                                                         \n",
      "                                                                                                  \n",
      " block4b_dwconv2 (DepthwiseConv  (None, 14, 14, 384)  3456       ['block4b_expand_activation[0][0]\n",
      " 2D)                                                             ']                               \n",
      "                                                                                                  \n",
      " block4b_bn (BatchNormalization  (None, 14, 14, 384)  1536       ['block4b_dwconv2[0][0]']        \n",
      " )                                                                                                \n",
      "                                                                                                  \n",
      " block4b_activation (Activation  (None, 14, 14, 384)  0          ['block4b_bn[0][0]']             \n",
      " )                                                                                                \n",
      "                                                                                                  \n",
      " block4b_se_squeeze (GlobalAver  (None, 384)         0           ['block4b_activation[0][0]']     \n",
      " agePooling2D)                                                                                    \n",
      "                                                                                                  \n",
      " block4b_se_reshape (Reshape)   (None, 1, 1, 384)    0           ['block4b_se_squeeze[0][0]']     \n",
      "                                                                                                  \n",
      " block4b_se_reduce (Conv2D)     (None, 1, 1, 24)     9240        ['block4b_se_reshape[0][0]']     \n",
      "                                                                                                  \n",
      " block4b_se_expand (Conv2D)     (None, 1, 1, 384)    9600        ['block4b_se_reduce[0][0]']      \n",
      "                                                                                                  \n",
      " block4b_se_excite (Multiply)   (None, 14, 14, 384)  0           ['block4b_activation[0][0]',     \n",
      "                                                                  'block4b_se_expand[0][0]']      \n",
      "                                                                                                  \n",
      " block4b_project_conv (Conv2D)  (None, 14, 14, 96)   36864       ['block4b_se_excite[0][0]']      \n",
      "                                                                                                  \n",
      " block4b_project_bn (BatchNorma  (None, 14, 14, 96)  384         ['block4b_project_conv[0][0]']   \n",
      " lization)                                                                                        \n",
      "                                                                                                  \n",
      " block4b_drop (Dropout)         (None, 14, 14, 96)   0           ['block4b_project_bn[0][0]']     \n",
      "                                                                                                  \n",
      " block4b_add (Add)              (None, 14, 14, 96)   0           ['block4b_drop[0][0]',           \n",
      "                                                                  'block4a_project_bn[0][0]']     \n",
      "                                                                                                  \n",
      " block4c_expand_conv (Conv2D)   (None, 14, 14, 384)  36864       ['block4b_add[0][0]']            \n",
      "                                                                                                  \n",
      " block4c_expand_bn (BatchNormal  (None, 14, 14, 384)  1536       ['block4c_expand_conv[0][0]']    \n",
      " ization)                                                                                         \n",
      "                                                                                                  \n",
      " block4c_expand_activation (Act  (None, 14, 14, 384)  0          ['block4c_expand_bn[0][0]']      \n",
      " ivation)                                                                                         \n",
      "                                                                                                  \n",
      " block4c_dwconv2 (DepthwiseConv  (None, 14, 14, 384)  3456       ['block4c_expand_activation[0][0]\n",
      " 2D)                                                             ']                               \n",
      "                                                                                                  \n",
      " block4c_bn (BatchNormalization  (None, 14, 14, 384)  1536       ['block4c_dwconv2[0][0]']        \n",
      " )                                                                                                \n",
      "                                                                                                  \n",
      " block4c_activation (Activation  (None, 14, 14, 384)  0          ['block4c_bn[0][0]']             \n",
      " )                                                                                                \n",
      "                                                                                                  \n",
      " block4c_se_squeeze (GlobalAver  (None, 384)         0           ['block4c_activation[0][0]']     \n",
      " agePooling2D)                                                                                    \n",
      "                                                                                                  \n",
      " block4c_se_reshape (Reshape)   (None, 1, 1, 384)    0           ['block4c_se_squeeze[0][0]']     \n",
      "                                                                                                  \n",
      " block4c_se_reduce (Conv2D)     (None, 1, 1, 24)     9240        ['block4c_se_reshape[0][0]']     \n",
      "                                                                                                  \n",
      " block4c_se_expand (Conv2D)     (None, 1, 1, 384)    9600        ['block4c_se_reduce[0][0]']      \n",
      "                                                                                                  \n",
      " block4c_se_excite (Multiply)   (None, 14, 14, 384)  0           ['block4c_activation[0][0]',     \n",
      "                                                                  'block4c_se_expand[0][0]']      \n",
      "                                                                                                  \n",
      " block4c_project_conv (Conv2D)  (None, 14, 14, 96)   36864       ['block4c_se_excite[0][0]']      \n",
      "                                                                                                  \n",
      " block4c_project_bn (BatchNorma  (None, 14, 14, 96)  384         ['block4c_project_conv[0][0]']   \n",
      " lization)                                                                                        \n",
      "                                                                                                  \n",
      " block4c_drop (Dropout)         (None, 14, 14, 96)   0           ['block4c_project_bn[0][0]']     \n",
      "                                                                                                  \n",
      " block4c_add (Add)              (None, 14, 14, 96)   0           ['block4c_drop[0][0]',           \n",
      "                                                                  'block4b_add[0][0]']            \n",
      "                                                                                                  \n",
      " block5a_expand_conv (Conv2D)   (None, 14, 14, 576)  55296       ['block4c_add[0][0]']            \n",
      "                                                                                                  \n",
      " block5a_expand_bn (BatchNormal  (None, 14, 14, 576)  2304       ['block5a_expand_conv[0][0]']    \n",
      " ization)                                                                                         \n",
      "                                                                                                  \n",
      " block5a_expand_activation (Act  (None, 14, 14, 576)  0          ['block5a_expand_bn[0][0]']      \n",
      " ivation)                                                                                         \n",
      "                                                                                                  \n",
      " block5a_dwconv2 (DepthwiseConv  (None, 14, 14, 576)  5184       ['block5a_expand_activation[0][0]\n",
      " 2D)                                                             ']                               \n",
      "                                                                                                  \n",
      " block5a_bn (BatchNormalization  (None, 14, 14, 576)  2304       ['block5a_dwconv2[0][0]']        \n",
      " )                                                                                                \n",
      "                                                                                                  \n",
      " block5a_activation (Activation  (None, 14, 14, 576)  0          ['block5a_bn[0][0]']             \n",
      " )                                                                                                \n",
      "                                                                                                  \n",
      " block5a_se_squeeze (GlobalAver  (None, 576)         0           ['block5a_activation[0][0]']     \n",
      " agePooling2D)                                                                                    \n",
      "                                                                                                  \n",
      " block5a_se_reshape (Reshape)   (None, 1, 1, 576)    0           ['block5a_se_squeeze[0][0]']     \n",
      "                                                                                                  \n",
      " block5a_se_reduce (Conv2D)     (None, 1, 1, 24)     13848       ['block5a_se_reshape[0][0]']     \n",
      "                                                                                                  \n",
      " block5a_se_expand (Conv2D)     (None, 1, 1, 576)    14400       ['block5a_se_reduce[0][0]']      \n",
      "                                                                                                  \n",
      " block5a_se_excite (Multiply)   (None, 14, 14, 576)  0           ['block5a_activation[0][0]',     \n",
      "                                                                  'block5a_se_expand[0][0]']      \n",
      "                                                                                                  \n",
      " block5a_project_conv (Conv2D)  (None, 14, 14, 112)  64512       ['block5a_se_excite[0][0]']      \n",
      "                                                                                                  \n",
      " block5a_project_bn (BatchNorma  (None, 14, 14, 112)  448        ['block5a_project_conv[0][0]']   \n",
      " lization)                                                                                        \n",
      "                                                                                                  \n",
      " block5b_expand_conv (Conv2D)   (None, 14, 14, 672)  75264       ['block5a_project_bn[0][0]']     \n",
      "                                                                                                  \n",
      " block5b_expand_bn (BatchNormal  (None, 14, 14, 672)  2688       ['block5b_expand_conv[0][0]']    \n",
      " ization)                                                                                         \n",
      "                                                                                                  \n",
      " block5b_expand_activation (Act  (None, 14, 14, 672)  0          ['block5b_expand_bn[0][0]']      \n",
      " ivation)                                                                                         \n",
      "                                                                                                  \n",
      " block5b_dwconv2 (DepthwiseConv  (None, 14, 14, 672)  6048       ['block5b_expand_activation[0][0]\n",
      " 2D)                                                             ']                               \n",
      "                                                                                                  \n",
      " block5b_bn (BatchNormalization  (None, 14, 14, 672)  2688       ['block5b_dwconv2[0][0]']        \n",
      " )                                                                                                \n",
      "                                                                                                  \n",
      " block5b_activation (Activation  (None, 14, 14, 672)  0          ['block5b_bn[0][0]']             \n",
      " )                                                                                                \n",
      "                                                                                                  \n",
      " block5b_se_squeeze (GlobalAver  (None, 672)         0           ['block5b_activation[0][0]']     \n",
      " agePooling2D)                                                                                    \n",
      "                                                                                                  \n",
      " block5b_se_reshape (Reshape)   (None, 1, 1, 672)    0           ['block5b_se_squeeze[0][0]']     \n",
      "                                                                                                  \n",
      " block5b_se_reduce (Conv2D)     (None, 1, 1, 28)     18844       ['block5b_se_reshape[0][0]']     \n",
      "                                                                                                  \n",
      " block5b_se_expand (Conv2D)     (None, 1, 1, 672)    19488       ['block5b_se_reduce[0][0]']      \n",
      "                                                                                                  \n",
      " block5b_se_excite (Multiply)   (None, 14, 14, 672)  0           ['block5b_activation[0][0]',     \n",
      "                                                                  'block5b_se_expand[0][0]']      \n",
      "                                                                                                  \n",
      " block5b_project_conv (Conv2D)  (None, 14, 14, 112)  75264       ['block5b_se_excite[0][0]']      \n",
      "                                                                                                  \n",
      " block5b_project_bn (BatchNorma  (None, 14, 14, 112)  448        ['block5b_project_conv[0][0]']   \n",
      " lization)                                                                                        \n",
      "                                                                                                  \n",
      " block5b_drop (Dropout)         (None, 14, 14, 112)  0           ['block5b_project_bn[0][0]']     \n",
      "                                                                                                  \n",
      " block5b_add (Add)              (None, 14, 14, 112)  0           ['block5b_drop[0][0]',           \n",
      "                                                                  'block5a_project_bn[0][0]']     \n",
      "                                                                                                  \n",
      " block5c_expand_conv (Conv2D)   (None, 14, 14, 672)  75264       ['block5b_add[0][0]']            \n",
      "                                                                                                  \n",
      " block5c_expand_bn (BatchNormal  (None, 14, 14, 672)  2688       ['block5c_expand_conv[0][0]']    \n",
      " ization)                                                                                         \n",
      "                                                                                                  \n",
      " block5c_expand_activation (Act  (None, 14, 14, 672)  0          ['block5c_expand_bn[0][0]']      \n",
      " ivation)                                                                                         \n",
      "                                                                                                  \n",
      " block5c_dwconv2 (DepthwiseConv  (None, 14, 14, 672)  6048       ['block5c_expand_activation[0][0]\n",
      " 2D)                                                             ']                               \n",
      "                                                                                                  \n",
      " block5c_bn (BatchNormalization  (None, 14, 14, 672)  2688       ['block5c_dwconv2[0][0]']        \n",
      " )                                                                                                \n",
      "                                                                                                  \n",
      " block5c_activation (Activation  (None, 14, 14, 672)  0          ['block5c_bn[0][0]']             \n",
      " )                                                                                                \n",
      "                                                                                                  \n",
      " block5c_se_squeeze (GlobalAver  (None, 672)         0           ['block5c_activation[0][0]']     \n",
      " agePooling2D)                                                                                    \n",
      "                                                                                                  \n",
      " block5c_se_reshape (Reshape)   (None, 1, 1, 672)    0           ['block5c_se_squeeze[0][0]']     \n",
      "                                                                                                  \n",
      " block5c_se_reduce (Conv2D)     (None, 1, 1, 28)     18844       ['block5c_se_reshape[0][0]']     \n",
      "                                                                                                  \n",
      " block5c_se_expand (Conv2D)     (None, 1, 1, 672)    19488       ['block5c_se_reduce[0][0]']      \n",
      "                                                                                                  \n",
      " block5c_se_excite (Multiply)   (None, 14, 14, 672)  0           ['block5c_activation[0][0]',     \n",
      "                                                                  'block5c_se_expand[0][0]']      \n",
      "                                                                                                  \n",
      " block5c_project_conv (Conv2D)  (None, 14, 14, 112)  75264       ['block5c_se_excite[0][0]']      \n",
      "                                                                                                  \n",
      " block5c_project_bn (BatchNorma  (None, 14, 14, 112)  448        ['block5c_project_conv[0][0]']   \n",
      " lization)                                                                                        \n",
      "                                                                                                  \n",
      " block5c_drop (Dropout)         (None, 14, 14, 112)  0           ['block5c_project_bn[0][0]']     \n",
      "                                                                                                  \n",
      " block5c_add (Add)              (None, 14, 14, 112)  0           ['block5c_drop[0][0]',           \n",
      "                                                                  'block5b_add[0][0]']            \n",
      "                                                                                                  \n",
      " block5d_expand_conv (Conv2D)   (None, 14, 14, 672)  75264       ['block5c_add[0][0]']            \n",
      "                                                                                                  \n",
      " block5d_expand_bn (BatchNormal  (None, 14, 14, 672)  2688       ['block5d_expand_conv[0][0]']    \n",
      " ization)                                                                                         \n",
      "                                                                                                  \n",
      " block5d_expand_activation (Act  (None, 14, 14, 672)  0          ['block5d_expand_bn[0][0]']      \n",
      " ivation)                                                                                         \n",
      "                                                                                                  \n",
      " block5d_dwconv2 (DepthwiseConv  (None, 14, 14, 672)  6048       ['block5d_expand_activation[0][0]\n",
      " 2D)                                                             ']                               \n",
      "                                                                                                  \n",
      " block5d_bn (BatchNormalization  (None, 14, 14, 672)  2688       ['block5d_dwconv2[0][0]']        \n",
      " )                                                                                                \n",
      "                                                                                                  \n",
      " block5d_activation (Activation  (None, 14, 14, 672)  0          ['block5d_bn[0][0]']             \n",
      " )                                                                                                \n",
      "                                                                                                  \n",
      " block5d_se_squeeze (GlobalAver  (None, 672)         0           ['block5d_activation[0][0]']     \n",
      " agePooling2D)                                                                                    \n",
      "                                                                                                  \n",
      " block5d_se_reshape (Reshape)   (None, 1, 1, 672)    0           ['block5d_se_squeeze[0][0]']     \n",
      "                                                                                                  \n",
      " block5d_se_reduce (Conv2D)     (None, 1, 1, 28)     18844       ['block5d_se_reshape[0][0]']     \n",
      "                                                                                                  \n",
      " block5d_se_expand (Conv2D)     (None, 1, 1, 672)    19488       ['block5d_se_reduce[0][0]']      \n",
      "                                                                                                  \n",
      " block5d_se_excite (Multiply)   (None, 14, 14, 672)  0           ['block5d_activation[0][0]',     \n",
      "                                                                  'block5d_se_expand[0][0]']      \n",
      "                                                                                                  \n",
      " block5d_project_conv (Conv2D)  (None, 14, 14, 112)  75264       ['block5d_se_excite[0][0]']      \n",
      "                                                                                                  \n",
      " block5d_project_bn (BatchNorma  (None, 14, 14, 112)  448        ['block5d_project_conv[0][0]']   \n",
      " lization)                                                                                        \n",
      "                                                                                                  \n",
      " block5d_drop (Dropout)         (None, 14, 14, 112)  0           ['block5d_project_bn[0][0]']     \n",
      "                                                                                                  \n",
      " block5d_add (Add)              (None, 14, 14, 112)  0           ['block5d_drop[0][0]',           \n",
      "                                                                  'block5c_add[0][0]']            \n",
      "                                                                                                  \n",
      " block5e_expand_conv (Conv2D)   (None, 14, 14, 672)  75264       ['block5d_add[0][0]']            \n",
      "                                                                                                  \n",
      " block5e_expand_bn (BatchNormal  (None, 14, 14, 672)  2688       ['block5e_expand_conv[0][0]']    \n",
      " ization)                                                                                         \n",
      "                                                                                                  \n",
      " block5e_expand_activation (Act  (None, 14, 14, 672)  0          ['block5e_expand_bn[0][0]']      \n",
      " ivation)                                                                                         \n",
      "                                                                                                  \n",
      " block5e_dwconv2 (DepthwiseConv  (None, 14, 14, 672)  6048       ['block5e_expand_activation[0][0]\n",
      " 2D)                                                             ']                               \n",
      "                                                                                                  \n",
      " block5e_bn (BatchNormalization  (None, 14, 14, 672)  2688       ['block5e_dwconv2[0][0]']        \n",
      " )                                                                                                \n",
      "                                                                                                  \n",
      " block5e_activation (Activation  (None, 14, 14, 672)  0          ['block5e_bn[0][0]']             \n",
      " )                                                                                                \n",
      "                                                                                                  \n",
      " block5e_se_squeeze (GlobalAver  (None, 672)         0           ['block5e_activation[0][0]']     \n",
      " agePooling2D)                                                                                    \n",
      "                                                                                                  \n",
      " block5e_se_reshape (Reshape)   (None, 1, 1, 672)    0           ['block5e_se_squeeze[0][0]']     \n",
      "                                                                                                  \n",
      " block5e_se_reduce (Conv2D)     (None, 1, 1, 28)     18844       ['block5e_se_reshape[0][0]']     \n",
      "                                                                                                  \n",
      " block5e_se_expand (Conv2D)     (None, 1, 1, 672)    19488       ['block5e_se_reduce[0][0]']      \n",
      "                                                                                                  \n",
      " block5e_se_excite (Multiply)   (None, 14, 14, 672)  0           ['block5e_activation[0][0]',     \n",
      "                                                                  'block5e_se_expand[0][0]']      \n",
      "                                                                                                  \n",
      " block5e_project_conv (Conv2D)  (None, 14, 14, 112)  75264       ['block5e_se_excite[0][0]']      \n",
      "                                                                                                  \n",
      " block5e_project_bn (BatchNorma  (None, 14, 14, 112)  448        ['block5e_project_conv[0][0]']   \n",
      " lization)                                                                                        \n",
      "                                                                                                  \n",
      " block5e_drop (Dropout)         (None, 14, 14, 112)  0           ['block5e_project_bn[0][0]']     \n",
      "                                                                                                  \n",
      " block5e_add (Add)              (None, 14, 14, 112)  0           ['block5e_drop[0][0]',           \n",
      "                                                                  'block5d_add[0][0]']            \n",
      "                                                                                                  \n",
      " block6a_expand_conv (Conv2D)   (None, 14, 14, 672)  75264       ['block5e_add[0][0]']            \n",
      "                                                                                                  \n",
      " block6a_expand_bn (BatchNormal  (None, 14, 14, 672)  2688       ['block6a_expand_conv[0][0]']    \n",
      " ization)                                                                                         \n",
      "                                                                                                  \n",
      " block6a_expand_activation (Act  (None, 14, 14, 672)  0          ['block6a_expand_bn[0][0]']      \n",
      " ivation)                                                                                         \n",
      "                                                                                                  \n",
      " block6a_dwconv2 (DepthwiseConv  (None, 7, 7, 672)   6048        ['block6a_expand_activation[0][0]\n",
      " 2D)                                                             ']                               \n",
      "                                                                                                  \n",
      " block6a_bn (BatchNormalization  (None, 7, 7, 672)   2688        ['block6a_dwconv2[0][0]']        \n",
      " )                                                                                                \n",
      "                                                                                                  \n",
      " block6a_activation (Activation  (None, 7, 7, 672)   0           ['block6a_bn[0][0]']             \n",
      " )                                                                                                \n",
      "                                                                                                  \n",
      " block6a_se_squeeze (GlobalAver  (None, 672)         0           ['block6a_activation[0][0]']     \n",
      " agePooling2D)                                                                                    \n",
      "                                                                                                  \n",
      " block6a_se_reshape (Reshape)   (None, 1, 1, 672)    0           ['block6a_se_squeeze[0][0]']     \n",
      "                                                                                                  \n",
      " block6a_se_reduce (Conv2D)     (None, 1, 1, 28)     18844       ['block6a_se_reshape[0][0]']     \n",
      "                                                                                                  \n",
      " block6a_se_expand (Conv2D)     (None, 1, 1, 672)    19488       ['block6a_se_reduce[0][0]']      \n",
      "                                                                                                  \n",
      " block6a_se_excite (Multiply)   (None, 7, 7, 672)    0           ['block6a_activation[0][0]',     \n",
      "                                                                  'block6a_se_expand[0][0]']      \n",
      "                                                                                                  \n",
      " block6a_project_conv (Conv2D)  (None, 7, 7, 192)    129024      ['block6a_se_excite[0][0]']      \n",
      "                                                                                                  \n",
      " block6a_project_bn (BatchNorma  (None, 7, 7, 192)   768         ['block6a_project_conv[0][0]']   \n",
      " lization)                                                                                        \n",
      "                                                                                                  \n",
      " block6b_expand_conv (Conv2D)   (None, 7, 7, 1152)   221184      ['block6a_project_bn[0][0]']     \n",
      "                                                                                                  \n",
      " block6b_expand_bn (BatchNormal  (None, 7, 7, 1152)  4608        ['block6b_expand_conv[0][0]']    \n",
      " ization)                                                                                         \n",
      "                                                                                                  \n",
      " block6b_expand_activation (Act  (None, 7, 7, 1152)  0           ['block6b_expand_bn[0][0]']      \n",
      " ivation)                                                                                         \n",
      "                                                                                                  \n",
      " block6b_dwconv2 (DepthwiseConv  (None, 7, 7, 1152)  10368       ['block6b_expand_activation[0][0]\n",
      " 2D)                                                             ']                               \n",
      "                                                                                                  \n",
      " block6b_bn (BatchNormalization  (None, 7, 7, 1152)  4608        ['block6b_dwconv2[0][0]']        \n",
      " )                                                                                                \n",
      "                                                                                                  \n",
      " block6b_activation (Activation  (None, 7, 7, 1152)  0           ['block6b_bn[0][0]']             \n",
      " )                                                                                                \n",
      "                                                                                                  \n",
      " block6b_se_squeeze (GlobalAver  (None, 1152)        0           ['block6b_activation[0][0]']     \n",
      " agePooling2D)                                                                                    \n",
      "                                                                                                  \n",
      " block6b_se_reshape (Reshape)   (None, 1, 1, 1152)   0           ['block6b_se_squeeze[0][0]']     \n",
      "                                                                                                  \n",
      " block6b_se_reduce (Conv2D)     (None, 1, 1, 48)     55344       ['block6b_se_reshape[0][0]']     \n",
      "                                                                                                  \n",
      " block6b_se_expand (Conv2D)     (None, 1, 1, 1152)   56448       ['block6b_se_reduce[0][0]']      \n",
      "                                                                                                  \n",
      " block6b_se_excite (Multiply)   (None, 7, 7, 1152)   0           ['block6b_activation[0][0]',     \n",
      "                                                                  'block6b_se_expand[0][0]']      \n",
      "                                                                                                  \n",
      " block6b_project_conv (Conv2D)  (None, 7, 7, 192)    221184      ['block6b_se_excite[0][0]']      \n",
      "                                                                                                  \n",
      " block6b_project_bn (BatchNorma  (None, 7, 7, 192)   768         ['block6b_project_conv[0][0]']   \n",
      " lization)                                                                                        \n",
      "                                                                                                  \n",
      " block6b_drop (Dropout)         (None, 7, 7, 192)    0           ['block6b_project_bn[0][0]']     \n",
      "                                                                                                  \n",
      " block6b_add (Add)              (None, 7, 7, 192)    0           ['block6b_drop[0][0]',           \n",
      "                                                                  'block6a_project_bn[0][0]']     \n",
      "                                                                                                  \n",
      " block6c_expand_conv (Conv2D)   (None, 7, 7, 1152)   221184      ['block6b_add[0][0]']            \n",
      "                                                                                                  \n",
      " block6c_expand_bn (BatchNormal  (None, 7, 7, 1152)  4608        ['block6c_expand_conv[0][0]']    \n",
      " ization)                                                                                         \n",
      "                                                                                                  \n",
      " block6c_expand_activation (Act  (None, 7, 7, 1152)  0           ['block6c_expand_bn[0][0]']      \n",
      " ivation)                                                                                         \n",
      "                                                                                                  \n",
      " block6c_dwconv2 (DepthwiseConv  (None, 7, 7, 1152)  10368       ['block6c_expand_activation[0][0]\n",
      " 2D)                                                             ']                               \n",
      "                                                                                                  \n",
      " block6c_bn (BatchNormalization  (None, 7, 7, 1152)  4608        ['block6c_dwconv2[0][0]']        \n",
      " )                                                                                                \n",
      "                                                                                                  \n",
      " block6c_activation (Activation  (None, 7, 7, 1152)  0           ['block6c_bn[0][0]']             \n",
      " )                                                                                                \n",
      "                                                                                                  \n",
      " block6c_se_squeeze (GlobalAver  (None, 1152)        0           ['block6c_activation[0][0]']     \n",
      " agePooling2D)                                                                                    \n",
      "                                                                                                  \n",
      " block6c_se_reshape (Reshape)   (None, 1, 1, 1152)   0           ['block6c_se_squeeze[0][0]']     \n",
      "                                                                                                  \n",
      " block6c_se_reduce (Conv2D)     (None, 1, 1, 48)     55344       ['block6c_se_reshape[0][0]']     \n",
      "                                                                                                  \n",
      " block6c_se_expand (Conv2D)     (None, 1, 1, 1152)   56448       ['block6c_se_reduce[0][0]']      \n",
      "                                                                                                  \n",
      " block6c_se_excite (Multiply)   (None, 7, 7, 1152)   0           ['block6c_activation[0][0]',     \n",
      "                                                                  'block6c_se_expand[0][0]']      \n",
      "                                                                                                  \n",
      " block6c_project_conv (Conv2D)  (None, 7, 7, 192)    221184      ['block6c_se_excite[0][0]']      \n",
      "                                                                                                  \n",
      " block6c_project_bn (BatchNorma  (None, 7, 7, 192)   768         ['block6c_project_conv[0][0]']   \n",
      " lization)                                                                                        \n",
      "                                                                                                  \n",
      " block6c_drop (Dropout)         (None, 7, 7, 192)    0           ['block6c_project_bn[0][0]']     \n",
      "                                                                                                  \n",
      " block6c_add (Add)              (None, 7, 7, 192)    0           ['block6c_drop[0][0]',           \n",
      "                                                                  'block6b_add[0][0]']            \n",
      "                                                                                                  \n",
      " block6d_expand_conv (Conv2D)   (None, 7, 7, 1152)   221184      ['block6c_add[0][0]']            \n",
      "                                                                                                  \n",
      " block6d_expand_bn (BatchNormal  (None, 7, 7, 1152)  4608        ['block6d_expand_conv[0][0]']    \n",
      " ization)                                                                                         \n",
      "                                                                                                  \n",
      " block6d_expand_activation (Act  (None, 7, 7, 1152)  0           ['block6d_expand_bn[0][0]']      \n",
      " ivation)                                                                                         \n",
      "                                                                                                  \n",
      " block6d_dwconv2 (DepthwiseConv  (None, 7, 7, 1152)  10368       ['block6d_expand_activation[0][0]\n",
      " 2D)                                                             ']                               \n",
      "                                                                                                  \n",
      " block6d_bn (BatchNormalization  (None, 7, 7, 1152)  4608        ['block6d_dwconv2[0][0]']        \n",
      " )                                                                                                \n",
      "                                                                                                  \n",
      " block6d_activation (Activation  (None, 7, 7, 1152)  0           ['block6d_bn[0][0]']             \n",
      " )                                                                                                \n",
      "                                                                                                  \n",
      " block6d_se_squeeze (GlobalAver  (None, 1152)        0           ['block6d_activation[0][0]']     \n",
      " agePooling2D)                                                                                    \n",
      "                                                                                                  \n",
      " block6d_se_reshape (Reshape)   (None, 1, 1, 1152)   0           ['block6d_se_squeeze[0][0]']     \n",
      "                                                                                                  \n",
      " block6d_se_reduce (Conv2D)     (None, 1, 1, 48)     55344       ['block6d_se_reshape[0][0]']     \n",
      "                                                                                                  \n",
      " block6d_se_expand (Conv2D)     (None, 1, 1, 1152)   56448       ['block6d_se_reduce[0][0]']      \n",
      "                                                                                                  \n",
      " block6d_se_excite (Multiply)   (None, 7, 7, 1152)   0           ['block6d_activation[0][0]',     \n",
      "                                                                  'block6d_se_expand[0][0]']      \n",
      "                                                                                                  \n",
      " block6d_project_conv (Conv2D)  (None, 7, 7, 192)    221184      ['block6d_se_excite[0][0]']      \n",
      "                                                                                                  \n",
      " block6d_project_bn (BatchNorma  (None, 7, 7, 192)   768         ['block6d_project_conv[0][0]']   \n",
      " lization)                                                                                        \n",
      "                                                                                                  \n",
      " block6d_drop (Dropout)         (None, 7, 7, 192)    0           ['block6d_project_bn[0][0]']     \n",
      "                                                                                                  \n",
      " block6d_add (Add)              (None, 7, 7, 192)    0           ['block6d_drop[0][0]',           \n",
      "                                                                  'block6c_add[0][0]']            \n",
      "                                                                                                  \n",
      " block6e_expand_conv (Conv2D)   (None, 7, 7, 1152)   221184      ['block6d_add[0][0]']            \n",
      "                                                                                                  \n",
      " block6e_expand_bn (BatchNormal  (None, 7, 7, 1152)  4608        ['block6e_expand_conv[0][0]']    \n",
      " ization)                                                                                         \n",
      "                                                                                                  \n",
      " block6e_expand_activation (Act  (None, 7, 7, 1152)  0           ['block6e_expand_bn[0][0]']      \n",
      " ivation)                                                                                         \n",
      "                                                                                                  \n",
      " block6e_dwconv2 (DepthwiseConv  (None, 7, 7, 1152)  10368       ['block6e_expand_activation[0][0]\n",
      " 2D)                                                             ']                               \n",
      "                                                                                                  \n",
      " block6e_bn (BatchNormalization  (None, 7, 7, 1152)  4608        ['block6e_dwconv2[0][0]']        \n",
      " )                                                                                                \n",
      "                                                                                                  \n",
      " block6e_activation (Activation  (None, 7, 7, 1152)  0           ['block6e_bn[0][0]']             \n",
      " )                                                                                                \n",
      "                                                                                                  \n",
      " block6e_se_squeeze (GlobalAver  (None, 1152)        0           ['block6e_activation[0][0]']     \n",
      " agePooling2D)                                                                                    \n",
      "                                                                                                  \n",
      " block6e_se_reshape (Reshape)   (None, 1, 1, 1152)   0           ['block6e_se_squeeze[0][0]']     \n",
      "                                                                                                  \n",
      " block6e_se_reduce (Conv2D)     (None, 1, 1, 48)     55344       ['block6e_se_reshape[0][0]']     \n",
      "                                                                                                  \n",
      " block6e_se_expand (Conv2D)     (None, 1, 1, 1152)   56448       ['block6e_se_reduce[0][0]']      \n",
      "                                                                                                  \n",
      " block6e_se_excite (Multiply)   (None, 7, 7, 1152)   0           ['block6e_activation[0][0]',     \n",
      "                                                                  'block6e_se_expand[0][0]']      \n",
      "                                                                                                  \n",
      " block6e_project_conv (Conv2D)  (None, 7, 7, 192)    221184      ['block6e_se_excite[0][0]']      \n",
      "                                                                                                  \n",
      " block6e_project_bn (BatchNorma  (None, 7, 7, 192)   768         ['block6e_project_conv[0][0]']   \n",
      " lization)                                                                                        \n",
      "                                                                                                  \n",
      " block6e_drop (Dropout)         (None, 7, 7, 192)    0           ['block6e_project_bn[0][0]']     \n",
      "                                                                                                  \n",
      " block6e_add (Add)              (None, 7, 7, 192)    0           ['block6e_drop[0][0]',           \n",
      "                                                                  'block6d_add[0][0]']            \n",
      "                                                                                                  \n",
      " block6f_expand_conv (Conv2D)   (None, 7, 7, 1152)   221184      ['block6e_add[0][0]']            \n",
      "                                                                                                  \n",
      " block6f_expand_bn (BatchNormal  (None, 7, 7, 1152)  4608        ['block6f_expand_conv[0][0]']    \n",
      " ization)                                                                                         \n",
      "                                                                                                  \n",
      " block6f_expand_activation (Act  (None, 7, 7, 1152)  0           ['block6f_expand_bn[0][0]']      \n",
      " ivation)                                                                                         \n",
      "                                                                                                  \n",
      " block6f_dwconv2 (DepthwiseConv  (None, 7, 7, 1152)  10368       ['block6f_expand_activation[0][0]\n",
      " 2D)                                                             ']                               \n",
      "                                                                                                  \n",
      " block6f_bn (BatchNormalization  (None, 7, 7, 1152)  4608        ['block6f_dwconv2[0][0]']        \n",
      " )                                                                                                \n",
      "                                                                                                  \n",
      " block6f_activation (Activation  (None, 7, 7, 1152)  0           ['block6f_bn[0][0]']             \n",
      " )                                                                                                \n",
      "                                                                                                  \n",
      " block6f_se_squeeze (GlobalAver  (None, 1152)        0           ['block6f_activation[0][0]']     \n",
      " agePooling2D)                                                                                    \n",
      "                                                                                                  \n",
      " block6f_se_reshape (Reshape)   (None, 1, 1, 1152)   0           ['block6f_se_squeeze[0][0]']     \n",
      "                                                                                                  \n",
      " block6f_se_reduce (Conv2D)     (None, 1, 1, 48)     55344       ['block6f_se_reshape[0][0]']     \n",
      "                                                                                                  \n",
      " block6f_se_expand (Conv2D)     (None, 1, 1, 1152)   56448       ['block6f_se_reduce[0][0]']      \n",
      "                                                                                                  \n",
      " block6f_se_excite (Multiply)   (None, 7, 7, 1152)   0           ['block6f_activation[0][0]',     \n",
      "                                                                  'block6f_se_expand[0][0]']      \n",
      "                                                                                                  \n",
      " block6f_project_conv (Conv2D)  (None, 7, 7, 192)    221184      ['block6f_se_excite[0][0]']      \n",
      "                                                                                                  \n",
      " block6f_project_bn (BatchNorma  (None, 7, 7, 192)   768         ['block6f_project_conv[0][0]']   \n",
      " lization)                                                                                        \n",
      "                                                                                                  \n",
      " block6f_drop (Dropout)         (None, 7, 7, 192)    0           ['block6f_project_bn[0][0]']     \n",
      "                                                                                                  \n",
      " block6f_add (Add)              (None, 7, 7, 192)    0           ['block6f_drop[0][0]',           \n",
      "                                                                  'block6e_add[0][0]']            \n",
      "                                                                                                  \n",
      " block6g_expand_conv (Conv2D)   (None, 7, 7, 1152)   221184      ['block6f_add[0][0]']            \n",
      "                                                                                                  \n",
      " block6g_expand_bn (BatchNormal  (None, 7, 7, 1152)  4608        ['block6g_expand_conv[0][0]']    \n",
      " ization)                                                                                         \n",
      "                                                                                                  \n",
      " block6g_expand_activation (Act  (None, 7, 7, 1152)  0           ['block6g_expand_bn[0][0]']      \n",
      " ivation)                                                                                         \n",
      "                                                                                                  \n",
      " block6g_dwconv2 (DepthwiseConv  (None, 7, 7, 1152)  10368       ['block6g_expand_activation[0][0]\n",
      " 2D)                                                             ']                               \n",
      "                                                                                                  \n",
      " block6g_bn (BatchNormalization  (None, 7, 7, 1152)  4608        ['block6g_dwconv2[0][0]']        \n",
      " )                                                                                                \n",
      "                                                                                                  \n",
      " block6g_activation (Activation  (None, 7, 7, 1152)  0           ['block6g_bn[0][0]']             \n",
      " )                                                                                                \n",
      "                                                                                                  \n",
      " block6g_se_squeeze (GlobalAver  (None, 1152)        0           ['block6g_activation[0][0]']     \n",
      " agePooling2D)                                                                                    \n",
      "                                                                                                  \n",
      " block6g_se_reshape (Reshape)   (None, 1, 1, 1152)   0           ['block6g_se_squeeze[0][0]']     \n",
      "                                                                                                  \n",
      " block6g_se_reduce (Conv2D)     (None, 1, 1, 48)     55344       ['block6g_se_reshape[0][0]']     \n",
      "                                                                                                  \n",
      " block6g_se_expand (Conv2D)     (None, 1, 1, 1152)   56448       ['block6g_se_reduce[0][0]']      \n",
      "                                                                                                  \n",
      " block6g_se_excite (Multiply)   (None, 7, 7, 1152)   0           ['block6g_activation[0][0]',     \n",
      "                                                                  'block6g_se_expand[0][0]']      \n",
      "                                                                                                  \n",
      " block6g_project_conv (Conv2D)  (None, 7, 7, 192)    221184      ['block6g_se_excite[0][0]']      \n",
      "                                                                                                  \n",
      " block6g_project_bn (BatchNorma  (None, 7, 7, 192)   768         ['block6g_project_conv[0][0]']   \n",
      " lization)                                                                                        \n",
      "                                                                                                  \n",
      " block6g_drop (Dropout)         (None, 7, 7, 192)    0           ['block6g_project_bn[0][0]']     \n",
      "                                                                                                  \n",
      " block6g_add (Add)              (None, 7, 7, 192)    0           ['block6g_drop[0][0]',           \n",
      "                                                                  'block6f_add[0][0]']            \n",
      "                                                                                                  \n",
      " block6h_expand_conv (Conv2D)   (None, 7, 7, 1152)   221184      ['block6g_add[0][0]']            \n",
      "                                                                                                  \n",
      " block6h_expand_bn (BatchNormal  (None, 7, 7, 1152)  4608        ['block6h_expand_conv[0][0]']    \n",
      " ization)                                                                                         \n",
      "                                                                                                  \n",
      " block6h_expand_activation (Act  (None, 7, 7, 1152)  0           ['block6h_expand_bn[0][0]']      \n",
      " ivation)                                                                                         \n",
      "                                                                                                  \n",
      " block6h_dwconv2 (DepthwiseConv  (None, 7, 7, 1152)  10368       ['block6h_expand_activation[0][0]\n",
      " 2D)                                                             ']                               \n",
      "                                                                                                  \n",
      " block6h_bn (BatchNormalization  (None, 7, 7, 1152)  4608        ['block6h_dwconv2[0][0]']        \n",
      " )                                                                                                \n",
      "                                                                                                  \n",
      " block6h_activation (Activation  (None, 7, 7, 1152)  0           ['block6h_bn[0][0]']             \n",
      " )                                                                                                \n",
      "                                                                                                  \n",
      " block6h_se_squeeze (GlobalAver  (None, 1152)        0           ['block6h_activation[0][0]']     \n",
      " agePooling2D)                                                                                    \n",
      "                                                                                                  \n",
      " block6h_se_reshape (Reshape)   (None, 1, 1, 1152)   0           ['block6h_se_squeeze[0][0]']     \n",
      "                                                                                                  \n",
      " block6h_se_reduce (Conv2D)     (None, 1, 1, 48)     55344       ['block6h_se_reshape[0][0]']     \n",
      "                                                                                                  \n",
      " block6h_se_expand (Conv2D)     (None, 1, 1, 1152)   56448       ['block6h_se_reduce[0][0]']      \n",
      "                                                                                                  \n",
      " block6h_se_excite (Multiply)   (None, 7, 7, 1152)   0           ['block6h_activation[0][0]',     \n",
      "                                                                  'block6h_se_expand[0][0]']      \n",
      "                                                                                                  \n",
      " block6h_project_conv (Conv2D)  (None, 7, 7, 192)    221184      ['block6h_se_excite[0][0]']      \n",
      "                                                                                                  \n",
      " block6h_project_bn (BatchNorma  (None, 7, 7, 192)   768         ['block6h_project_conv[0][0]']   \n",
      " lization)                                                                                        \n",
      "                                                                                                  \n",
      " block6h_drop (Dropout)         (None, 7, 7, 192)    0           ['block6h_project_bn[0][0]']     \n",
      "                                                                                                  \n",
      " block6h_add (Add)              (None, 7, 7, 192)    0           ['block6h_drop[0][0]',           \n",
      "                                                                  'block6g_add[0][0]']            \n",
      "                                                                                                  \n",
      " top_conv (Conv2D)              (None, 7, 7, 1280)   245760      ['block6h_add[0][0]']            \n",
      "                                                                                                  \n",
      " top_bn (BatchNormalization)    (None, 7, 7, 1280)   5120        ['top_conv[0][0]']               \n",
      "                                                                                                  \n",
      " top_activation (Activation)    (None, 7, 7, 1280)   0           ['top_bn[0][0]']                 \n",
      "                                                                                                  \n",
      " global_average_pooling2d_2 (Gl  (None, 1280)        0           ['top_activation[0][0]']         \n",
      " obalAveragePooling2D)                                                                            \n",
      "                                                                                                  \n",
      " dropout_2 (Dropout)            (None, 1280)         0           ['global_average_pooling2d_2[0][0\n",
      "                                                                 ]']                              \n",
      "                                                                                                  \n",
      " dense_3 (Dense)                (None, 2)            2562        ['dropout_2[0][0]']              \n",
      "                                                                                                  \n",
      "==================================================================================================\n",
      "Total params: 5,921,874\n",
      "Trainable params: 5,861,266\n",
      "Non-trainable params: 60,608\n",
      "__________________________________________________________________________________________________\n"
     ]
    }
   ],
   "source": [
    "eff_model.summary()"
   ]
  },
  {
   "cell_type": "code",
   "execution_count": 66,
   "metadata": {
    "execution": {
     "iopub.execute_input": "2023-08-17T14:09:05.610449Z",
     "iopub.status.busy": "2023-08-17T14:09:05.610088Z",
     "iopub.status.idle": "2023-08-17T14:09:05.630987Z",
     "shell.execute_reply": "2023-08-17T14:09:05.630105Z",
     "shell.execute_reply.started": "2023-08-17T14:09:05.610421Z"
    },
    "id": "kj30mx1ar-HO"
   },
   "outputs": [],
   "source": [
    "eff_model.compile(\n",
    "    loss='sparse_categorical_crossentropy',\n",
    "    optimizer='adam',\n",
    "    metrics=['accuracy']\n",
    ")"
   ]
  },
  {
   "cell_type": "code",
   "execution_count": 67,
   "metadata": {
    "colab": {
     "base_uri": "https://localhost:8080/"
    },
    "execution": {
     "iopub.execute_input": "2023-08-17T14:09:07.316019Z",
     "iopub.status.busy": "2023-08-17T14:09:07.315664Z",
     "iopub.status.idle": "2023-08-17T14:48:02.939028Z",
     "shell.execute_reply": "2023-08-17T14:48:02.938106Z",
     "shell.execute_reply.started": "2023-08-17T14:09:07.315991Z"
    },
    "id": "Yy8qSy_xsIy-",
    "outputId": "c81d2b00-212a-4031-f055-6d6e6dfd6962"
   },
   "outputs": [
    {
     "name": "stdout",
     "output_type": "stream",
     "text": [
      "Epoch 1/20\n"
     ]
    },
    {
     "name": "stderr",
     "output_type": "stream",
     "text": [
      "2023-08-17 14:10:08.542618: E tensorflow/core/grappler/optimizers/meta_optimizer.cc:954] layout failed: INVALID_ARGUMENT: Size of values 0 does not match size of permutation 4 @ fanin shape inmodel_1/block2b_drop/dropout/SelectV2-2-TransposeNHWCToNCHW-LayoutOptimizer\n"
     ]
    },
    {
     "name": "stdout",
     "output_type": "stream",
     "text": [
      "225/225 [==============================] - 353s 1s/step - loss: 0.2093 - accuracy: 0.9118 - val_loss: 0.4508 - val_accuracy: 0.7779 - lr: 0.0010\n",
      "Epoch 2/20\n",
      "225/225 [==============================] - 245s 1s/step - loss: 0.1170 - accuracy: 0.9561 - val_loss: 0.6398 - val_accuracy: 0.6506 - lr: 0.0010\n",
      "Epoch 3/20\n",
      "225/225 [==============================] - 240s 1s/step - loss: 0.0930 - accuracy: 0.9650 - val_loss: 0.7219 - val_accuracy: 0.5000 - lr: 0.0010\n",
      "Epoch 4/20\n",
      "225/225 [==============================] - 244s 1s/step - loss: 0.0873 - accuracy: 0.9658 - val_loss: 0.6970 - val_accuracy: 0.5008 - lr: 0.0010\n",
      "Epoch 5/20\n",
      "225/225 [==============================] - 245s 1s/step - loss: 0.0788 - accuracy: 0.9702 - val_loss: 0.7096 - val_accuracy: 0.4761 - lr: 0.0010\n",
      "Epoch 6/20\n",
      "225/225 [==============================] - 244s 1s/step - loss: 0.0687 - accuracy: 0.9745 - val_loss: 6.9892 - val_accuracy: 0.5000 - lr: 0.0010\n",
      "Epoch 7/20\n",
      "225/225 [==============================] - 245s 1s/step - loss: 0.0712 - accuracy: 0.9741 - val_loss: 0.7912 - val_accuracy: 0.5006 - lr: 0.0010\n",
      "Epoch 8/20\n",
      "225/225 [==============================] - 240s 1s/step - loss: 0.0689 - accuracy: 0.9723 - val_loss: 0.8302 - val_accuracy: 0.5014 - lr: 0.0010\n",
      "Epoch 9/20\n",
      "225/225 [==============================] - ETA: 0s - loss: 0.0633 - accuracy: 0.9764Restoring model weights from the end of the best epoch: 1.\n",
      "225/225 [==============================] - 243s 1s/step - loss: 0.0633 - accuracy: 0.9764 - val_loss: 0.6944 - val_accuracy: 0.5000 - lr: 0.0010\n",
      "Epoch 9: early stopping\n"
     ]
    },
    {
     "data": {
      "text/plain": [
       "<keras.callbacks.History at 0x789f0cf3af20>"
      ]
     },
     "execution_count": 67,
     "metadata": {},
     "output_type": "execute_result"
    }
   ],
   "source": [
    "epochs=20\n",
    "eff_model.fit(train_generator, epochs=epochs, steps_per_epoch=len(train_generator),\n",
    "          validation_data=validation_generator, validation_steps=len(validation_generator), callbacks=[lr, es])"
   ]
  },
  {
   "cell_type": "code",
   "execution_count": 74,
   "metadata": {
    "execution": {
     "iopub.execute_input": "2023-08-17T16:18:18.028662Z",
     "iopub.status.busy": "2023-08-17T16:18:18.027555Z",
     "iopub.status.idle": "2023-08-17T16:18:39.729939Z",
     "shell.execute_reply": "2023-08-17T16:18:39.728768Z",
     "shell.execute_reply.started": "2023-08-17T16:18:18.028626Z"
    }
   },
   "outputs": [
    {
     "name": "stdout",
     "output_type": "stream",
     "text": [
      "74/74 [==============================] - 21s 289ms/step - loss: 0.4853 - accuracy: 0.7301\n",
      "0.4853411316871643 0.7301352620124817\n"
     ]
    }
   ],
   "source": [
    "loss, accuracy = eff_model.evaluate(test_generator, steps=len(test_generator))\n",
    "print(loss, accuracy)"
   ]
  },
  {
   "cell_type": "code",
   "execution_count": 75,
   "metadata": {
    "execution": {
     "iopub.execute_input": "2023-08-17T16:19:07.484121Z",
     "iopub.status.busy": "2023-08-17T16:19:07.483417Z",
     "iopub.status.idle": "2023-08-17T16:19:23.324435Z",
     "shell.execute_reply": "2023-08-17T16:19:23.323389Z",
     "shell.execute_reply.started": "2023-08-17T16:19:07.484080Z"
    }
   },
   "outputs": [
    {
     "name": "stdout",
     "output_type": "stream",
     "text": [
      "74/74 [==============================] - 16s 189ms/step\n",
      "/n               precision    recall  f1-score   support\n",
      "\n",
      "        cats       0.97      0.66      0.78      3505\n",
      "        dogs       0.49      0.93      0.64      1227\n",
      "\n",
      "    accuracy                           0.73      4732\n",
      "   macro avg       0.73      0.80      0.71      4732\n",
      "weighted avg       0.84      0.73      0.75      4732\n",
      "\n"
     ]
    }
   ],
   "source": [
    "class_labels = list(test_generator.class_indices.keys())\n",
    "true_labels = test_generator.classes\n",
    "predicions = eff_model.predict(test_generator, steps=len(test_generator))\n",
    "predicted_labels =[np.argmax(prediction) for prediction in predicions]\n",
    "classification_rep = classification_report(true_labels, predicted_labels, target_names=class_labels)\n",
    "print(\"/n\",classification_rep)"
   ]
  },
  {
   "cell_type": "code",
   "execution_count": 76,
   "metadata": {
    "colab": {
     "base_uri": "https://localhost:8080/"
    },
    "execution": {
     "iopub.execute_input": "2023-08-17T16:19:30.570855Z",
     "iopub.status.busy": "2023-08-17T16:19:30.570463Z",
     "iopub.status.idle": "2023-08-17T16:19:30.832424Z",
     "shell.execute_reply": "2023-08-17T16:19:30.831438Z",
     "shell.execute_reply.started": "2023-08-17T16:19:30.570827Z"
    },
    "id": "0w6Ar4upjKfa",
    "outputId": "d4b1af7a-87bb-4452-ae32-abe41406d128"
   },
   "outputs": [
    {
     "data": {
      "image/png": "[encoded data removed]",
      "text/plain": [
       "<Figure size 640x480 with 2 Axes>"
      ]
     },
     "metadata": {},
     "output_type": "display_data"
    }
   ],
   "source": [
    "cm = confusion_matrix(true_labels, np.array(predicted_labels))\n",
    "cm_display = ConfusionMatrixDisplay(confusion_matrix = cm, display_labels=class_labels)\n",
    "cm_display.plot()\n",
    "plt.show()"
   ]
  },
  {
   "cell_type": "markdown",
   "metadata": {
    "id": "8ylzOi0hfBy2"
   },
   "source": [
    "#### Simple Customs Model"
   ]
  },
  {
   "cell_type": "code",
   "execution_count": null,
   "metadata": {
    "id": "aT6efeJMEPGf"
   },
   "outputs": [],
   "source": [
    "# https://blog.keras.io/building-powerful-image-classification-models-using-very-little-data.html"
   ]
  },
  {
   "cell_type": "code",
   "execution_count": 69,
   "metadata": {
    "execution": {
     "iopub.execute_input": "2023-08-17T15:07:05.778276Z",
     "iopub.status.busy": "2023-08-17T15:07:05.777250Z",
     "iopub.status.idle": "2023-08-17T15:07:05.785782Z",
     "shell.execute_reply": "2023-08-17T15:07:05.784589Z",
     "shell.execute_reply.started": "2023-08-17T15:07:05.778227Z"
    },
    "id": "eD5o8Lk48ymf"
   },
   "outputs": [],
   "source": [
    "from tensorflow.keras.layers import Activation, Dropout, Flatten, Dense, MaxPooling2D, Conv2D\n",
    "from tensorflow.keras import Sequential"
   ]
  },
  {
   "cell_type": "code",
   "execution_count": 72,
   "metadata": {
    "colab": {
     "base_uri": "https://localhost:8080/"
    },
    "execution": {
     "iopub.execute_input": "2023-08-17T16:16:42.864424Z",
     "iopub.status.busy": "2023-08-17T16:16:42.864056Z",
     "iopub.status.idle": "2023-08-17T16:17:04.498244Z",
     "shell.execute_reply": "2023-08-17T16:17:04.497500Z",
     "shell.execute_reply.started": "2023-08-17T16:16:42.864394Z"
    },
    "id": "hiRk_lTQ9PYG",
    "outputId": "2b7ce091-fa50-412d-f695-b1ee5ce09f02"
   },
   "outputs": [
    {
     "name": "stdout",
     "output_type": "stream",
     "text": [
      "Model: \"sequential_2\"\n",
      "_________________________________________________________________\n",
      " Layer (type)                Output Shape              Param #   \n",
      "=================================================================\n",
      " conv2d_97 (Conv2D)          (None, 224, 224, 32)      896       \n",
      "                                                                 \n",
      " activation_99 (Activation)  (None, 224, 224, 32)      0         \n",
      "                                                                 \n",
      " max_pooling2d_7 (MaxPooling  (None, 112, 112, 32)     0         \n",
      " 2D)                                                             \n",
      "                                                                 \n",
      " conv2d_98 (Conv2D)          (None, 112, 112, 32)      9248      \n",
      "                                                                 \n",
      " activation_100 (Activation)  (None, 112, 112, 32)     0         \n",
      "                                                                 \n",
      " max_pooling2d_8 (MaxPooling  (None, 56, 56, 32)       0         \n",
      " 2D)                                                             \n",
      "                                                                 \n",
      " conv2d_99 (Conv2D)          (None, 56, 56, 64)        18496     \n",
      "                                                                 \n",
      " activation_101 (Activation)  (None, 56, 56, 64)       0         \n",
      "                                                                 \n",
      " max_pooling2d_9 (MaxPooling  (None, 28, 28, 64)       0         \n",
      " 2D)                                                             \n",
      "                                                                 \n",
      " conv2d_100 (Conv2D)         (None, 28, 28, 32)        18464     \n",
      "                                                                 \n",
      " activation_102 (Activation)  (None, 28, 28, 32)       0         \n",
      "                                                                 \n",
      " max_pooling2d_10 (MaxPoolin  (None, 14, 14, 32)       0         \n",
      " g2D)                                                            \n",
      "                                                                 \n",
      " flatten_1 (Flatten)         (None, 6272)              0         \n",
      "                                                                 \n",
      " dense_6 (Dense)             (None, 512)               3211776   \n",
      "                                                                 \n",
      " activation_103 (Activation)  (None, 512)              0         \n",
      "                                                                 \n",
      " dropout_6 (Dropout)         (None, 512)               0         \n",
      "                                                                 \n",
      " dense_7 (Dense)             (None, 2)                 1026      \n",
      "                                                                 \n",
      " activation_104 (Activation)  (None, 2)                0         \n",
      "                                                                 \n",
      "=================================================================\n",
      "Total params: 3,259,906\n",
      "Trainable params: 3,259,906\n",
      "Non-trainable params: 0\n",
      "_________________________________________________________________\n"
     ]
    }
   ],
   "source": [
    "customs = Sequential()\n",
    "customs.add(Conv2D(32,(3, 3), padding='same', input_shape=(224,224,3)))\n",
    "customs.add(Activation('relu'))\n",
    "customs.add(MaxPooling2D(pool_size=(2,2)))\n",
    "\n",
    "customs.add(Conv2D(32, (3, 3), padding='same'))\n",
    "customs.add(Activation('relu'))\n",
    "customs.add(MaxPooling2D(pool_size=(2, 2)))\n",
    "\n",
    "\n",
    "customs.add(Conv2D(64, (3, 3), padding='same'))\n",
    "customs.add(Activation('relu'))\n",
    "customs.add(MaxPooling2D(pool_size=(2, 2)))\n",
    "\n",
    "customs.add(Conv2D(32, (3, 3), padding='same'))\n",
    "customs.add(Activation('relu'))\n",
    "customs.add(MaxPooling2D(pool_size=(2, 2)))\n",
    "\n",
    "\n",
    "customs.add(Flatten())\n",
    "customs.add(Dense(512))\n",
    "customs.add(Activation('relu'))\n",
    "customs.add(Dropout(0.5))\n",
    "customs.add(Dense(2))\n",
    "customs.add(Activation('sigmoid'))\n",
    "\n",
    "customs.compile(optimizer='adam',loss=\"sparse_categorical_crossentropy\",metrics=['accuracy'])\n",
    "customs.summary()"
   ]
  },
  {
   "cell_type": "code",
   "execution_count": 71,
   "metadata": {
    "colab": {
     "base_uri": "https://localhost:8080/"
    },
    "execution": {
     "iopub.execute_input": "2023-08-17T15:07:11.285966Z",
     "iopub.status.busy": "2023-08-17T15:07:11.285554Z",
     "iopub.status.idle": "2023-08-17T15:56:34.604463Z",
     "shell.execute_reply": "2023-08-17T15:56:34.603370Z",
     "shell.execute_reply.started": "2023-08-17T15:07:11.285934Z"
    },
    "id": "wdt802gh_tCl",
    "outputId": "97af168c-b14c-4ef7-f0cf-63faf34d5af3"
   },
   "outputs": [
    {
     "name": "stdout",
     "output_type": "stream",
     "text": [
      "Epoch 1/20\n"
     ]
    },
    {
     "name": "stderr",
     "output_type": "stream",
     "text": [
      "2023-08-17 15:07:12.958985: E tensorflow/core/grappler/optimizers/meta_optimizer.cc:954] layout failed: INVALID_ARGUMENT: Size of values 0 does not match size of permutation 4 @ fanin shape insequential_1/dropout_3/dropout/SelectV2-2-TransposeNHWCToNCHW-LayoutOptimizer\n"
     ]
    },
    {
     "name": "stdout",
     "output_type": "stream",
     "text": [
      "225/225 [==============================] - 236s 1s/step - loss: 1.0906 - accuracy: 0.5060 - val_loss: 0.6931 - val_accuracy: 0.5042 - lr: 0.0010\n",
      "Epoch 2/20\n",
      "225/225 [==============================] - 233s 1s/step - loss: 0.6932 - accuracy: 0.4924 - val_loss: 0.6930 - val_accuracy: 0.5097 - lr: 0.0010\n",
      "Epoch 3/20\n",
      "225/225 [==============================] - 230s 1s/step - loss: 0.6932 - accuracy: 0.4926 - val_loss: 0.6932 - val_accuracy: 0.5003 - lr: 0.0010\n",
      "Epoch 4/20\n",
      "225/225 [==============================] - 232s 1s/step - loss: 0.6930 - accuracy: 0.5024 - val_loss: 0.6911 - val_accuracy: 0.5003 - lr: 0.0010\n",
      "Epoch 5/20\n",
      "225/225 [==============================] - 228s 1s/step - loss: 0.6940 - accuracy: 0.5164 - val_loss: 0.6933 - val_accuracy: 0.5003 - lr: 0.0010\n",
      "Epoch 6/20\n",
      "225/225 [==============================] - 230s 1s/step - loss: 0.6933 - accuracy: 0.4949 - val_loss: 0.6932 - val_accuracy: 0.5000 - lr: 0.0010\n",
      "Epoch 7/20\n",
      "225/225 [==============================] - 238s 1s/step - loss: 0.6932 - accuracy: 0.4946 - val_loss: 0.6932 - val_accuracy: 0.5000 - lr: 0.0010\n",
      "Epoch 8/20\n",
      "225/225 [==============================] - 228s 1s/step - loss: 0.6932 - accuracy: 0.4997 - val_loss: 0.6932 - val_accuracy: 0.5000 - lr: 0.0010\n",
      "Epoch 9/20\n",
      "225/225 [==============================] - 234s 1s/step - loss: 0.6932 - accuracy: 0.4869 - val_loss: 0.6931 - val_accuracy: 0.5000 - lr: 0.0010\n",
      "Epoch 10/20\n",
      "225/225 [==============================] - 233s 1s/step - loss: 0.6932 - accuracy: 0.4921 - val_loss: 0.6931 - val_accuracy: 0.5000 - lr: 0.0010\n",
      "Epoch 11/20\n",
      "225/225 [==============================] - 233s 1s/step - loss: 0.6932 - accuracy: 0.4962 - val_loss: 0.6932 - val_accuracy: 0.5000 - lr: 0.0010\n",
      "Epoch 12/20\n",
      "225/225 [==============================] - ETA: 0s - loss: 0.6932 - accuracy: 0.4974Restoring model weights from the end of the best epoch: 4.\n",
      "225/225 [==============================] - 232s 1s/step - loss: 0.6932 - accuracy: 0.4974 - val_loss: 0.6931 - val_accuracy: 0.5000 - lr: 0.0010\n",
      "Epoch 12: early stopping\n"
     ]
    },
    {
     "data": {
      "text/plain": [
       "<keras.callbacks.History at 0x78a4a2724970>"
      ]
     },
     "execution_count": 71,
     "metadata": {},
     "output_type": "execute_result"
    }
   ],
   "source": [
    "customs.fit(train_generator, epochs=20, steps_per_epoch=len(train_generator),\n",
    "          validation_data=validation_generator, validation_steps=len(validation_generator), callbacks=[lr, es])"
   ]
  },
  {
   "cell_type": "code",
   "execution_count": 80,
   "metadata": {
    "execution": {
     "iopub.execute_input": "2023-08-17T16:25:55.171571Z",
     "iopub.status.busy": "2023-08-17T16:25:55.171194Z",
     "iopub.status.idle": "2023-08-17T16:26:16.119539Z",
     "shell.execute_reply": "2023-08-17T16:26:16.118550Z",
     "shell.execute_reply.started": "2023-08-17T16:25:55.171541Z"
    }
   },
   "outputs": [
    {
     "name": "stdout",
     "output_type": "stream",
     "text": [
      "74/74 [==============================] - 15s 199ms/step - loss: 0.6346 - accuracy: 0.7392\n"
     ]
    },
    {
     "data": {
      "text/plain": [
       "[0.6346327066421509, 0.7392222881317139]"
      ]
     },
     "execution_count": 80,
     "metadata": {},
     "output_type": "execute_result"
    }
   ],
   "source": [
    "customs.evaluate(test_generator, steps=len(test_generator))"
   ]
  },
  {
   "cell_type": "code",
   "execution_count": 77,
   "metadata": {
    "execution": {
     "iopub.execute_input": "2023-08-17T16:21:21.068535Z",
     "iopub.status.busy": "2023-08-17T16:21:21.068158Z",
     "iopub.status.idle": "2023-08-17T16:21:36.470437Z",
     "shell.execute_reply": "2023-08-17T16:21:36.469403Z",
     "shell.execute_reply.started": "2023-08-17T16:21:21.068489Z"
    }
   },
   "outputs": [
    {
     "name": "stdout",
     "output_type": "stream",
     "text": [
      "74/74 [==============================] - 15s 202ms/step\n",
      "/n               precision    recall  f1-score   support\n",
      "\n",
      "        cats       0.74      1.00      0.85      3505\n",
      "        dogs       0.29      0.00      0.01      1227\n",
      "\n",
      "    accuracy                           0.74      4732\n",
      "   macro avg       0.52      0.50      0.43      4732\n",
      "weighted avg       0.62      0.74      0.63      4732\n",
      "\n"
     ]
    }
   ],
   "source": [
    "class_labels = list(test_generator.class_indices.keys())\n",
    "true_labels = test_generator.classes\n",
    "predicions = customs.predict(test_generator, steps=len(test_generator))\n",
    "predicted_labels =[np.argmax(prediction) for prediction in predicions]\n",
    "classification_rep = classification_report(true_labels, predicted_labels, target_names=class_labels)\n",
    "print(\"/n\",classification_rep)"
   ]
  },
  {
   "cell_type": "code",
   "execution_count": 78,
   "metadata": {
    "execution": {
     "iopub.execute_input": "2023-08-17T16:21:54.171553Z",
     "iopub.status.busy": "2023-08-17T16:21:54.170936Z",
     "iopub.status.idle": "2023-08-17T16:21:54.419752Z",
     "shell.execute_reply": "2023-08-17T16:21:54.418817Z",
     "shell.execute_reply.started": "2023-08-17T16:21:54.171499Z"
    }
   },
   "outputs": [
    {
     "data": {
      "image/png": "[encoded data removed]",
      "text/plain": [
       "<Figure size 640x480 with 2 Axes>"
      ]
     },
     "metadata": {},
     "output_type": "display_data"
    }
   ],
   "source": [
    "cm = confusion_matrix(true_labels, np.array(predicted_labels))\n",
    "cm_display = ConfusionMatrixDisplay(confusion_matrix = cm, display_labels=class_labels)\n",
    "cm_display.plot()\n",
    "plt.show()"
   ]
  },
  {
   "cell_type": "markdown",
   "metadata": {
    "id": "TYusZ_yrUcNA"
   },
   "source": [
    "#### Accuracy and loss of each model"
   ]
  },
  {
   "cell_type": "markdown",
   "metadata": {
    "id": "4np2gzWJmQJR"
   },
   "source": [
    "| Model| Accuracy |loss|\n",
    "| ----- | ----- |-----|\n",
    "|InceptionV3|0.90680|0.223|\n",
    "|EfficinetNetV2-B2|0.730135|0.4853|\n",
    "|Customs|0.7392|0.6346|"
   ]
  },
  {
   "cell_type": "code",
   "execution_count": null,
   "metadata": {},
   "outputs": [],
   "source": []
  }
 ],
 "metadata": {
  "accelerator": "GPU",
  "colab": {
   "provenance": []
  },
  "kernelspec": {
   "display_name": "Python 3 (ipykernel)",
   "language": "python",
   "name": "python3"
  },
  "language_info": {
   "codemirror_mode": {
    "name": "ipython",
    "version": 3
   },
   "file_extension": ".py",
   "mimetype": "text/x-python",
   "name": "python",
   "nbconvert_exporter": "python",
   "pygments_lexer": "ipython3",
   "version": "3.10.12"
  }
 },
 "nbformat": 4,
 "nbformat_minor": 4
}

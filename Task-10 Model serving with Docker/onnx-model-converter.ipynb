{
 "cells": [
  {
   "cell_type": "code",
   "execution_count": 1,
   "metadata": {
    "_cell_guid": "b1076dfc-b9ad-4769-8c92-a6c4dae69d19",
    "_uuid": "8f2839f25d086af736a60e9eeb907d3b93b6e0e5",
    "execution": {
     "iopub.execute_input": "2023-08-23T06:40:48.639428Z",
     "iopub.status.busy": "2023-08-23T06:40:48.638812Z",
     "iopub.status.idle": "2023-08-23T06:40:54.677330Z",
     "shell.execute_reply": "2023-08-23T06:40:54.676413Z",
     "shell.execute_reply.started": "2023-08-23T06:40:48.639395Z"
    }
   },
   "outputs": [],
   "source": [
    "# https://pytorch.org/docs/stable/onnx.html\n",
    "import torch\n",
    "import timm\n",
    "import os\n",
    "import torch.nn as nn\n",
    "drop_rate = 0.0\n",
    "drop_path_rate = 0.0\n",
    "backbone = 'tf_efficientnetv2_b2' \n",
    "dummy_input = torch.randn(1, 3, 224, 224)\n",
    "device = torch.device('cpu')"
   ]
  },
  {
   "cell_type": "code",
   "execution_count": 2,
   "metadata": {
    "execution": {
     "iopub.execute_input": "2023-08-23T06:40:54.679404Z",
     "iopub.status.busy": "2023-08-23T06:40:54.679034Z",
     "iopub.status.idle": "2023-08-23T06:40:54.685153Z",
     "shell.execute_reply": "2023-08-23T06:40:54.683598Z",
     "shell.execute_reply.started": "2023-08-23T06:40:54.679371Z"
    }
   },
   "outputs": [],
   "source": [
    "mod_dir=\"/kaggle/working/onexModel\"\n",
    "os.makedirs(mod_dir, exist_ok=True)"
   ]
  },
  {
   "cell_type": "code",
   "execution_count": 4,
   "metadata": {
    "execution": {
     "iopub.execute_input": "2023-08-23T06:40:58.986250Z",
     "iopub.status.busy": "2023-08-23T06:40:58.985286Z",
     "iopub.status.idle": "2023-08-23T06:40:58.995023Z",
     "shell.execute_reply": "2023-08-23T06:40:58.993605Z",
     "shell.execute_reply.started": "2023-08-23T06:40:58.986196Z"
    }
   },
   "outputs": [],
   "source": [
    "class TimmModel(nn.Module):\n",
    "    def __init__(self):\n",
    "        super(TimmModel, self).__init__()\n",
    "\n",
    "        self.effnetv2b2 = timm.create_model(\n",
    "            backbone,\n",
    "            in_chans=3,\n",
    "            features_only=False,\n",
    "            drop_rate=drop_rate,\n",
    "            drop_path_rate=drop_path_rate,\n",
    "            pretrained=pretrained,\n",
    "            num_classes=2,\n",
    "        )\n",
    "\n",
    "    def forward(self, x, verbose=True):\n",
    "        x = self.effnetv2b2(x)\n",
    "        return x"
   ]
  },
  {
   "cell_type": "markdown",
   "metadata": {},
   "source": [
    "#### Pretrained Weighted Model Conversion"
   ]
  },
  {
   "cell_type": "code",
   "execution_count": 9,
   "metadata": {
    "execution": {
     "iopub.execute_input": "2023-08-22T07:32:51.044412Z",
     "iopub.status.busy": "2023-08-22T07:32:51.043957Z",
     "iopub.status.idle": "2023-08-22T07:32:55.774432Z",
     "shell.execute_reply": "2023-08-22T07:32:55.772988Z",
     "shell.execute_reply.started": "2023-08-22T07:32:51.044372Z"
    }
   },
   "outputs": [
    {
     "name": "stdout",
     "output_type": "stream",
     "text": [
      "============== Diagnostic Run torch.onnx.export version 2.0.0+cpu ==============\n",
      "verbose: False, log level: Level.ERROR\n",
      "======================= 0 NONE 0 NOTE 0 WARNING 0 ERROR ========================\n",
      "\n"
     ]
    }
   ],
   "source": [
    "pretrained = True    \n",
    "model = TimmModel()\n",
    "checkpoint_path = \"/kaggle/input/poutyne-image-classification/weights/model_checkpoint_15.pth\"\n",
    "state_dict = torch.load(checkpoint_path, map_location=device)\n",
    "model.load_state_dict(state_dict)\n",
    "model.eval()\n",
    "onnx_path = \"/kaggle/working/onexModel/efficientv2b2_p.onnx\"\n",
    "torch.onnx.export(model, dummy_input, onnx_path, verbose=True)"
   ]
  },
  {
   "cell_type": "markdown",
   "metadata": {},
   "source": [
    "#### Random Weighted Model Conversion"
   ]
  },
  {
   "cell_type": "code",
   "execution_count": 7,
   "metadata": {
    "execution": {
     "iopub.execute_input": "2023-08-23T06:43:10.305536Z",
     "iopub.status.busy": "2023-08-23T06:43:10.305092Z",
     "iopub.status.idle": "2023-08-23T06:43:14.781723Z",
     "shell.execute_reply": "2023-08-23T06:43:14.780574Z",
     "shell.execute_reply.started": "2023-08-23T06:43:10.305485Z"
    }
   },
   "outputs": [
    {
     "name": "stdout",
     "output_type": "stream",
     "text": [
      "============== Diagnostic Run torch.onnx.export version 2.0.0+cpu ==============\n",
      "verbose: False, log level: Level.ERROR\n",
      "======================= 0 NONE 0 NOTE 0 WARNING 0 ERROR ========================\n",
      "\n"
     ]
    }
   ],
   "source": [
    "pretrained=False\n",
    "rand_eff=TimmModel()\n",
    "paths=\"/kaggle/input/effcientnetv2b2-random-weights/models/model_checkpoint_33.pth\"\n",
    "dict_data = torch.load(paths, map_location=device)\n",
    "rand_eff.load_state_dict(dict_data)\n",
    "rand_eff.eval()\n",
    "onnx_path_n = \"/kaggle/working/onexModel/effcientv2b2.onnx\"\n",
    "torch.onnx.export(rand_eff, dummy_input, onnx_path_n, verbose=True)"
   ]
  }
 ],
 "metadata": {
  "kernelspec": {
   "display_name": "Python 3 (ipykernel)",
   "language": "python",
   "name": "python3"
  },
  "language_info": {
   "codemirror_mode": {
    "name": "ipython",
    "version": 3
   },
   "file_extension": ".py",
   "mimetype": "text/x-python",
   "name": "python",
   "nbconvert_exporter": "python",
   "pygments_lexer": "ipython3",
   "version": "3.10.12"
  }
 },
 "nbformat": 4,
 "nbformat_minor": 4
}
